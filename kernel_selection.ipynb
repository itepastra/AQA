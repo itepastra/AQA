{
 "cells": [
  {
   "cell_type": "code",
   "execution_count": 9,
   "id": "f8d78190",
   "metadata": {},
   "outputs": [
    {
     "data": {
      "application/vnd.jupyter.widget-view+json": {
       "model_id": "09afb3c5406f44f18c2e714860525ece",
       "version_major": 2,
       "version_minor": 0
      },
      "text/plain": [
       "Depth:   0%|          | 0/4 [00:00<?, ?it/s]"
      ]
     },
     "metadata": {},
     "output_type": "display_data"
    },
    {
     "data": {
      "application/vnd.jupyter.widget-view+json": {
       "model_id": "0089ed43bce94a53a0e5fb13c0b5e4e1",
       "version_major": 2,
       "version_minor": 0
      },
      "text/plain": [
       "QUEUEING TASKS | Gate Combinations:   0%|          | 0/35 [00:00<?, ?it/s]"
      ]
     },
     "metadata": {},
     "output_type": "display_data"
    },
    {
     "data": {
      "application/vnd.jupyter.widget-view+json": {
       "model_id": "413d68f2e6bf4b0b9a6583a0e9cf7825",
       "version_major": 2,
       "version_minor": 0
      },
      "text/plain": [
       "PROCESSING TASKS | Gate Combinations:   0%|          | 0/35 [00:00<?, ?it/s]"
      ]
     },
     "metadata": {},
     "output_type": "display_data"
    },
    {
     "data": {
      "application/vnd.jupyter.widget-view+json": {
       "model_id": "e0b74480a0174362b2839a6b468d9bce",
       "version_major": 2,
       "version_minor": 0
      },
      "text/plain": [
       "COLLECTING RESULTS | Gate Combinations:   0%|          | 0/35 [00:00<?, ?it/s]"
      ]
     },
     "metadata": {},
     "output_type": "display_data"
    },
    {
     "data": {
      "application/vnd.jupyter.widget-view+json": {
       "model_id": "a0ea1d864be94a5eb2578b280e1dd3e0",
       "version_major": 2,
       "version_minor": 0
      },
      "text/plain": [
       "QUEUEING TASKS | Optimizing parameters:   0%|          | 0/10 [00:00<?, ?it/s]"
      ]
     },
     "metadata": {},
     "output_type": "display_data"
    },
    {
     "data": {
      "application/vnd.jupyter.widget-view+json": {
       "model_id": "db30f2672d464ce5aa7255cfbd006d33",
       "version_major": 2,
       "version_minor": 0
      },
      "text/plain": [
       "PROCESSING TASKS | Optimizing parameters:   0%|          | 0/10 [00:00<?, ?it/s]"
      ]
     },
     "metadata": {},
     "output_type": "display_data"
    },
    {
     "data": {
      "application/vnd.jupyter.widget-view+json": {
       "model_id": "cb62314583af4756bf487e05d932a00e",
       "version_major": 2,
       "version_minor": 0
      },
      "text/plain": [
       "COLLECTING RESULTS | Optimizing parameters:   0%|          | 0/10 [00:00<?, ?it/s]"
      ]
     },
     "metadata": {},
     "output_type": "display_data"
    },
    {
     "name": "stdout",
     "output_type": "stream",
     "text": [
      "depth 1 done\n"
     ]
    },
    {
     "data": {
      "application/vnd.jupyter.widget-view+json": {
       "model_id": "87030708e6ab42febb5e09a188ec5fcf",
       "version_major": 2,
       "version_minor": 0
      },
      "text/plain": [
       "QUEUEING TASKS | Gate Combinations:   0%|          | 0/338 [00:00<?, ?it/s]"
      ]
     },
     "metadata": {},
     "output_type": "display_data"
    },
    {
     "data": {
      "application/vnd.jupyter.widget-view+json": {
       "model_id": "8c401260f5f044109fb3e309baa45cac",
       "version_major": 2,
       "version_minor": 0
      },
      "text/plain": [
       "PROCESSING TASKS | Gate Combinations:   0%|          | 0/338 [00:00<?, ?it/s]"
      ]
     },
     "metadata": {},
     "output_type": "display_data"
    },
    {
     "data": {
      "application/vnd.jupyter.widget-view+json": {
       "model_id": "d579d326d7214850982f688fe6d92d2c",
       "version_major": 2,
       "version_minor": 0
      },
      "text/plain": [
       "COLLECTING RESULTS | Gate Combinations:   0%|          | 0/338 [00:00<?, ?it/s]"
      ]
     },
     "metadata": {},
     "output_type": "display_data"
    },
    {
     "data": {
      "application/vnd.jupyter.widget-view+json": {
       "model_id": "0f0d08842c4947d08d5a8c36e8bf9343",
       "version_major": 2,
       "version_minor": 0
      },
      "text/plain": [
       "QUEUEING TASKS | Optimizing parameters:   0%|          | 0/10 [00:00<?, ?it/s]"
      ]
     },
     "metadata": {},
     "output_type": "display_data"
    },
    {
     "data": {
      "application/vnd.jupyter.widget-view+json": {
       "model_id": "64ce69e620a34ab19d3d1f651ac91f9b",
       "version_major": 2,
       "version_minor": 0
      },
      "text/plain": [
       "PROCESSING TASKS | Optimizing parameters:   0%|          | 0/10 [00:00<?, ?it/s]"
      ]
     },
     "metadata": {},
     "output_type": "display_data"
    },
    {
     "data": {
      "application/vnd.jupyter.widget-view+json": {
       "model_id": "c72444c9bc3446e7a055fa17bd4c0d48",
       "version_major": 2,
       "version_minor": 0
      },
      "text/plain": [
       "COLLECTING RESULTS | Optimizing parameters:   0%|          | 0/10 [00:00<?, ?it/s]"
      ]
     },
     "metadata": {},
     "output_type": "display_data"
    },
    {
     "name": "stdout",
     "output_type": "stream",
     "text": [
      "depth 2 done\n"
     ]
    },
    {
     "data": {
      "application/vnd.jupyter.widget-view+json": {
       "model_id": "1223692432574a6d9b188dddf676df4a",
       "version_major": 2,
       "version_minor": 0
      },
      "text/plain": [
       "QUEUEING TASKS | Gate Combinations:   0%|          | 0/334 [00:00<?, ?it/s]"
      ]
     },
     "metadata": {},
     "output_type": "display_data"
    },
    {
     "data": {
      "application/vnd.jupyter.widget-view+json": {
       "model_id": "7017c6110b1540889ce07663e8041afe",
       "version_major": 2,
       "version_minor": 0
      },
      "text/plain": [
       "PROCESSING TASKS | Gate Combinations:   0%|          | 0/334 [00:00<?, ?it/s]"
      ]
     },
     "metadata": {},
     "output_type": "display_data"
    },
    {
     "data": {
      "application/vnd.jupyter.widget-view+json": {
       "model_id": "f997dd8b6ba744838e5fe198786e1f67",
       "version_major": 2,
       "version_minor": 0
      },
      "text/plain": [
       "COLLECTING RESULTS | Gate Combinations:   0%|          | 0/334 [00:00<?, ?it/s]"
      ]
     },
     "metadata": {},
     "output_type": "display_data"
    },
    {
     "data": {
      "application/vnd.jupyter.widget-view+json": {
       "model_id": "b6b1bd905fa543ad8b41b1fca8956d22",
       "version_major": 2,
       "version_minor": 0
      },
      "text/plain": [
       "QUEUEING TASKS | Optimizing parameters:   0%|          | 0/10 [00:00<?, ?it/s]"
      ]
     },
     "metadata": {},
     "output_type": "display_data"
    },
    {
     "data": {
      "application/vnd.jupyter.widget-view+json": {
       "model_id": "534b04eab7404d92a8c33d31b3f7a5b0",
       "version_major": 2,
       "version_minor": 0
      },
      "text/plain": [
       "PROCESSING TASKS | Optimizing parameters:   0%|          | 0/10 [00:00<?, ?it/s]"
      ]
     },
     "metadata": {},
     "output_type": "display_data"
    },
    {
     "data": {
      "application/vnd.jupyter.widget-view+json": {
       "model_id": "4c2eada0bc034be09e142da4d0d699d2",
       "version_major": 2,
       "version_minor": 0
      },
      "text/plain": [
       "COLLECTING RESULTS | Optimizing parameters:   0%|          | 0/10 [00:00<?, ?it/s]"
      ]
     },
     "metadata": {},
     "output_type": "display_data"
    },
    {
     "name": "stdout",
     "output_type": "stream",
     "text": [
      "depth 3 done\n"
     ]
    },
    {
     "data": {
      "application/vnd.jupyter.widget-view+json": {
       "model_id": "da0a6f89042e4c7fab5bae8ef6874f1d",
       "version_major": 2,
       "version_minor": 0
      },
      "text/plain": [
       "QUEUEING TASKS | Gate Combinations:   0%|          | 0/385 [00:00<?, ?it/s]"
      ]
     },
     "metadata": {},
     "output_type": "display_data"
    },
    {
     "data": {
      "application/vnd.jupyter.widget-view+json": {
       "model_id": "b7691eee133349f4922aa73335c066d9",
       "version_major": 2,
       "version_minor": 0
      },
      "text/plain": [
       "PROCESSING TASKS | Gate Combinations:   0%|          | 0/385 [00:00<?, ?it/s]"
      ]
     },
     "metadata": {},
     "output_type": "display_data"
    },
    {
     "data": {
      "application/vnd.jupyter.widget-view+json": {
       "model_id": "ed2b8bf51076408ea9322cac160e8d17",
       "version_major": 2,
       "version_minor": 0
      },
      "text/plain": [
       "COLLECTING RESULTS | Gate Combinations:   0%|          | 0/385 [00:00<?, ?it/s]"
      ]
     },
     "metadata": {},
     "output_type": "display_data"
    },
    {
     "data": {
      "application/vnd.jupyter.widget-view+json": {
       "model_id": "5584bbdf5f4c4cd9a708d7aeea45216d",
       "version_major": 2,
       "version_minor": 0
      },
      "text/plain": [
       "QUEUEING TASKS | Optimizing parameters:   0%|          | 0/10 [00:00<?, ?it/s]"
      ]
     },
     "metadata": {},
     "output_type": "display_data"
    },
    {
     "data": {
      "application/vnd.jupyter.widget-view+json": {
       "model_id": "7669cb2c67bf47cfba5a054761a108a5",
       "version_major": 2,
       "version_minor": 0
      },
      "text/plain": [
       "PROCESSING TASKS | Optimizing parameters:   0%|          | 0/10 [00:00<?, ?it/s]"
      ]
     },
     "metadata": {},
     "output_type": "display_data"
    },
    {
     "data": {
      "application/vnd.jupyter.widget-view+json": {
       "model_id": "a00b80990f4d4aa386495b5bb15a1713",
       "version_major": 2,
       "version_minor": 0
      },
      "text/plain": [
       "COLLECTING RESULTS | Optimizing parameters:   0%|          | 0/10 [00:00<?, ?it/s]"
      ]
     },
     "metadata": {},
     "output_type": "display_data"
    },
    {
     "name": "stdout",
     "output_type": "stream",
     "text": [
      "depth 4 done\n"
     ]
    }
   ],
   "source": [
    "#!/usr/bin/env python\n",
    "import itertools\n",
    "import json\n",
    "import numpy as np\n",
    "from typing import List\n",
    "import pennylane as qml\n",
    "from sklearn.svm import SVC\n",
    "from sklearn.model_selection import train_test_split\n",
    "from sklearn.metrics import log_loss\n",
    "from sklearn.utils import shuffle\n",
    "from qiskit_machine_learning.datasets import ad_hoc_data\n",
    "import matplotlib.pyplot as plt\n",
    "import matplotlib\n",
    "import random\n",
    "from tqdm.notebook import tqdm\n",
    "from skopt import gp_minimize\n",
    "from skopt.space import Real\n",
    "from sklearn.metrics import accuracy_score, f1_score, classification_report\n",
    "import seaborn as sns\n",
    "import pandas as pd\n",
    "from collections import Counter\n",
    "from pqdm.processes import pqdm\n",
    "\n",
    "K = 15  # Top circuits to keep per iteration\n",
    "N = 100  # Data size\n",
    "L_MAX = 4  # Max circuit depth\n",
    "QUBITS = 3  # Number of qubits\n",
    "JOBS = 15\n",
    "seed = 42\n",
    "\n",
    "projector = np.zeros((2**QUBITS, 2**QUBITS))\n",
    "projector[0, 0] = 1\n",
    "\n",
    "\n",
    "def gate_combinations_sub(qubits: int, previous_layer: tuple[int]):\n",
    "    if qubits == 0:\n",
    "        yield ()\n",
    "    else:\n",
    "        for combination in gate_combinations_sub(qubits - 1, previous_layer):\n",
    "            yield combination + (0,)\n",
    "            if previous_layer[qubits - 1] != 1:\n",
    "                yield combination + (1,)\n",
    "            if previous_layer[qubits - 1] != 2:\n",
    "                yield combination + (2,)\n",
    "            for offset in range(1, len(combination) + 1):\n",
    "                if (\n",
    "                    combination[-offset] == 0\n",
    "                    and all(\n",
    "                        combination[-offset + o] != o + 2 for o in range(1, offset + 1)\n",
    "                    )\n",
    "                    and previous_layer[qubits - 1] != offset + 2\n",
    "                ):\n",
    "                    yield combination + (offset + 2,)\n",
    "\n",
    "\n",
    "def gate_combinations(qubits, previous_layer):\n",
    "    # skip the 1st output (0 everywhere) so we actually do\n",
    "    return list(gate_combinations_sub(qubits, previous_layer))[1:]\n",
    "\n",
    "\n",
    "def create_pennylane_circuit(instructions: List[List[int]]):\n",
    "    dev = qml.device(\"default.qubit\", wires=QUBITS)\n",
    "\n",
    "    @qml.qnode(dev)\n",
    "    def circuit(xparams=[], yparams=[]):\n",
    "        for q in range(QUBITS):\n",
    "            qml.Hadamard(wires=q)\n",
    "            qml.RZ(xparams[q], wires=q)\n",
    "\n",
    "        idx = 0\n",
    "        for layer in instructions:\n",
    "            for qbit, op in enumerate(layer):\n",
    "                if op == 0:\n",
    "                    continue\n",
    "                elif op == 1:\n",
    "                    qml.Hadamard(wires=qbit)\n",
    "                elif op == 2:\n",
    "                    qml.RZ(yparams[idx]*xparams[qbit], wires=qbit)\n",
    "                    idx += 1\n",
    "                elif op >= 3:\n",
    "                    qml.CNOT(wires=[qbit, qbit - op + 2])\n",
    "        return qml.state()\n",
    "\n",
    "    return circuit\n",
    "\n",
    "\n",
    "def build_kernel_fn(gate_layers, rz_params):\n",
    "    dev = qml.device(\"default.qubit\", wires=QUBITS)\n",
    "    dev2 = qml.device(\"default.qubit\", wires=QUBITS)\n",
    "\n",
    "    def apply_circuit(x):\n",
    "        idx = 0\n",
    "        for q in range(QUBITS):\n",
    "            qml.Hadamard(wires=q)\n",
    "            qml.RZ(x[q], wires=q)\n",
    "        for layer in gate_layers:\n",
    "            for qbit, op in enumerate(layer):\n",
    "                if op == 0:\n",
    "                    continue\n",
    "                elif op == 1:\n",
    "                    qml.Hadamard(wires=qbit)\n",
    "                elif op == 2:\n",
    "                    qml.RZ(rz_params[idx]*x[qbit], wires=qbit)\n",
    "                    idx += 1\n",
    "                elif op >= 3:\n",
    "                    qml.CNOT(wires=[qbit, qbit - op + 2])\n",
    "\n",
    "    @qml.qnode(dev)\n",
    "    def kernel_qnode(x1, x2):\n",
    "        apply_circuit(x1)\n",
    "        qml.adjoint(apply_circuit)(x2)\n",
    "        # return qml.probs(wires=0)\n",
    "        # return qml.expval(qml.PauliZ(wires=range(QUBITS)))\n",
    "        return qml.expval(qml.Hermitian(projector, wires=range(QUBITS)))\n",
    "\n",
    "    def kernel_fn(X1, X2):\n",
    "        K = np.zeros((len(X1), len(X2)))\n",
    "        for i in range(len(X1)):\n",
    "            for j in range(len(X2)):\n",
    "                K[i, j] = kernel_qnode(X1[i], X2[j])\n",
    "        return K\n",
    "\n",
    "    return kernel_fn\n",
    "\n",
    "\n",
    "def compute_information_criteria(y_true, y_prob, num_params):\n",
    "    y_pred = (y_prob >= 0.5).astype(int)\n",
    "    n = len(y_true)\n",
    "    loglik = -log_loss(y_true, y_prob, normalize=False)\n",
    "    aic = 2 * num_params - 2 * loglik\n",
    "    bic = num_params * np.log(n) - 2 * loglik\n",
    "\n",
    "    acc = accuracy_score(y_true, y_pred)\n",
    "    f1 = f1_score(y_true, y_pred)\n",
    "\n",
    "    report = classification_report(y_true, y_pred, output_dict=True, zero_division=0)\n",
    "    class_accuracies = {\n",
    "        f\"class_{cls}\": report[cls][\"recall\"] for cls in report if cls in (\"0\", \"1\")\n",
    "    }\n",
    "\n",
    "    return aic, bic, acc, class_accuracies, f1\n",
    "\n",
    "\n",
    "gap = 0.5\n",
    "# Load data\n",
    "x_raw, y_raw, X_test, y_test = ad_hoc_data(\n",
    "    training_size=N, test_size=4100//2, n=QUBITS, gap=gap, one_hot=False\n",
    ")\n",
    "\n",
    "# Shuffle 2N training examples\n",
    "x_raw, y_raw = shuffle(x_raw, y_raw, random_state=seed)\n",
    "\n",
    "# Split into train and validation (each size N)\n",
    "x_train, x_val, y_train, y_val = train_test_split(\n",
    "    x_raw, y_raw, test_size=0.5, random_state=seed\n",
    ")\n",
    "\n",
    "x = np.vstack([x_raw, x_raw])\n",
    "y = np.hstack([y_raw, y_raw])\n",
    "x, y = shuffle(x, y, random_state=seed)\n",
    "\n",
    "def compute_test_values(circ, rz, model):\n",
    "    num_rz = len(rz)\n",
    "    try:\n",
    "        kernel_fn = build_kernel_fn(circ, rz)\n",
    "        K_test = kernel_fn(X_test, x_train)\n",
    "        y_prob = model.predict_proba(K_test)[:, 1]\n",
    "        aic, bic, acc, class_accs, f1 = compute_information_criteria(\n",
    "            y_test, y_prob, num_rz\n",
    "        )\n",
    "        return acc, bic, acc, class_accs, f1\n",
    "    except Exception as e:\n",
    "        print(f\"Test evaluation error: {e}\")\n",
    "        return None, None, None, None, None\n",
    "\n",
    "\n",
    "best_circuit_arr = []\n",
    "\n",
    "for m in [10]:\n",
    "    optimal_circuits = []\n",
    "    for depth in tqdm(range(1, L_MAX + 1), desc=\"Depth\", position=3, leave=False):\n",
    "        base_circuits = (\n",
    "            [(c[0], c[1]) for c in optimal_circuits]\n",
    "            if optimal_circuits\n",
    "            else [([tuple(0 for _ in range(QUBITS))], [])]\n",
    "        )\n",
    "\n",
    "        # Stage 1: Structure search (fixed/random RZ)\n",
    "        def calculate_combo(inp):\n",
    "            base, base_rz, combo = inp\n",
    "            new_circ = base + [combo]\n",
    "            num_rz = sum(layer.count(2) for layer in new_circ)\n",
    "            # print(f\"Trying circuit {new_circ} with {num_rz} RZs\")\n",
    "            new_rz_count = combo.count(2)\n",
    "            new_rz = np.random.uniform(-np.pi, np.pi, size=new_rz_count).tolist()\n",
    "            dummy_rz = base_rz + new_rz\n",
    "\n",
    "            try:\n",
    "                kernel_fn = build_kernel_fn(new_circ, dummy_rz)\n",
    "                K_train = kernel_fn(x_train, x_train)\n",
    "                model = SVC(kernel=\"precomputed\", probability=True)\n",
    "                model.fit(K_train, y_train)\n",
    "\n",
    "                K_val = kernel_fn(x_val, x_train)\n",
    "                y_prob = model.predict_proba(K_val)[:, 1]\n",
    "\n",
    "                aic, bic, acc, class_accs, f1 = compute_information_criteria(\n",
    "                    y_val, y_prob, num_rz\n",
    "                )\n",
    "                # print(f\"combo {combo} has BIC {bic}\")\n",
    "                return (new_circ, dummy_rz, aic, bic, acc, class_accs, f1, model)\n",
    "            except Exception as e:\n",
    "                print(f\"Structure error: {e}\")\n",
    "                return None\n",
    "\n",
    "        result = pqdm(\n",
    "            [\n",
    "                (base, rz, combo)\n",
    "                for base, rz in base_circuits\n",
    "                for combo in gate_combinations(QUBITS, base[-1])\n",
    "            ],\n",
    "            calculate_combo,\n",
    "            n_jobs=JOBS,\n",
    "            desc=\"Gate Combinations\",\n",
    "            position=1,\n",
    "            leave=False,\n",
    "        )\n",
    "        stage1_candidates = []\n",
    "        for thing in result:\n",
    "            stage1_candidates.append(thing)\n",
    "\n",
    "        # Pick top K by BIC\n",
    "        stage1_candidates.sort(key=lambda x: x[3])\n",
    "        param = [cand for cand in stage1_candidates if len(cand[1]) > 0]\n",
    "        top_m = param[:m]\n",
    "        non_param = [cand for cand in stage1_candidates if len(cand[1]) == 0]\n",
    "        # Stage 2: Parameter optimization on top M circuits\n",
    "        stage2_optimized = []\n",
    "\n",
    "        def parameter_optimization(values):\n",
    "            circ, init_rz, aic, bic, acc, class_accs, f1, model1 = values\n",
    "            num_rz = len(init_rz)\n",
    "            if num_rz == 0:\n",
    "                return (circ, [], aic, bic, acc, class_accs, f1, model1)\n",
    "\n",
    "            def objective(params):\n",
    "                try:\n",
    "                    kernel_fn = build_kernel_fn(circ, params)\n",
    "                    K_train = kernel_fn(x_train, x_train)\n",
    "                    model = SVC(kernel=\"precomputed\", probability=True)\n",
    "                    model.fit(K_train, y_train)\n",
    "                    K_val = kernel_fn(x_val, x_train)\n",
    "                    y_prob = model.predict_proba(K_val)[:, 1]\n",
    "                    aic, bic, acc, class_accs, f1 = compute_information_criteria(\n",
    "                        y_val, y_prob, num_rz\n",
    "                    )\n",
    "                    return bic\n",
    "                except Exception:\n",
    "                    return 1e6\n",
    "\n",
    "            space = [Real(-np.pi, np.pi) for _ in range(num_rz)]\n",
    "            result = gp_minimize(objective, space, n_calls=15, random_state=seed)\n",
    "            best_params = result.x\n",
    "\n",
    "            try:\n",
    "                kernel_fn = build_kernel_fn(circ, best_params)\n",
    "                K_train = kernel_fn(x_train, x_train)\n",
    "                model = SVC(kernel=\"precomputed\", probability=True)\n",
    "                model.fit(K_train, y_train)\n",
    "                K_val = kernel_fn(x_val, x_train)\n",
    "                y_prob = model.predict_proba(K_val)[:, 1]\n",
    "                aic, bic, acc, class_accs, f1 = compute_information_criteria(\n",
    "                    y_val, y_prob, num_rz\n",
    "                )\n",
    "                return (circ, best_params, aic, bic, acc, class_accs, f1, model)\n",
    "\n",
    "            except Exception as e:\n",
    "                print(f\"Final model error: {e}\")\n",
    "                return None\n",
    "\n",
    "        stage2_optimized = [\n",
    "            x\n",
    "            for x in pqdm(\n",
    "                top_m,\n",
    "                parameter_optimization,\n",
    "                n_jobs=JOBS,\n",
    "                position=2,\n",
    "                leave=False,\n",
    "                desc=\"Optimizing parameters\",\n",
    "            )\n",
    "            if x is not None\n",
    "        ]\n",
    "\n",
    "        # Add remaining K-M circuits (unoptimized) + optimized ones\n",
    "        optimal_circuits = stage2_optimized + non_param[:K] + param[m:]\n",
    "        optimal_circuits.sort(key=lambda x: x[3])  # sort by BIC\n",
    "        optimal_circuits = optimal_circuits[:K]  # keep top K\n",
    "\n",
    "        aic, bic, acc, class_accs, f1 = compute_test_values(\n",
    "            optimal_circuits[0][0], optimal_circuits[0][1], optimal_circuits[0][7]\n",
    "        )\n",
    "\n",
    "        best_circuit_arr.append(\n",
    "            (optimal_circuits[0] + (m, depth) + (aic, bic, acc, class_accs, f1))\n",
    "        )\n",
    "        print(f\"depth {depth} done\")\n",
    "        with open(\"data_bic7.json\", \"w+\") as f:\n",
    "            json.dump(\n",
    "                [\n",
    "                    (\n",
    "                        m,\n",
    "                        depth,\n",
    "                        circ,\n",
    "                        best_params,\n",
    "                        aic,\n",
    "                        bic,\n",
    "                        acc,\n",
    "                        class_accs,\n",
    "                        f1,\n",
    "                        aic_test,\n",
    "                        bic_test,\n",
    "                        acc_test,\n",
    "                        class_accs_test,\n",
    "                        f1_test,\n",
    "                    )\n",
    "                    for (\n",
    "                        circ,\n",
    "                        best_params,\n",
    "                        aic,\n",
    "                        bic,\n",
    "                        acc,\n",
    "                        class_accs,\n",
    "                        f1,\n",
    "                        model,\n",
    "                        m,\n",
    "                        depth,\n",
    "                        aic_test,\n",
    "                        bic_test,\n",
    "                        acc_test,\n",
    "                        class_accs_test,\n",
    "                        f1_test,\n",
    "                    ) in best_circuit_arr\n",
    "                ],\n",
    "                f,\n",
    "            )"
   ]
  },
  {
   "cell_type": "code",
   "execution_count": 10,
   "id": "61197716",
   "metadata": {},
   "outputs": [
    {
     "data": {
      "application/vnd.jupyter.widget-view+json": {
       "model_id": "ba3fdbf630c0486993359fd58792c552",
       "version_major": 2,
       "version_minor": 0
      },
      "text/plain": [
       "Depth:   0%|          | 0/4 [00:00<?, ?it/s]"
      ]
     },
     "metadata": {},
     "output_type": "display_data"
    },
    {
     "data": {
      "application/vnd.jupyter.widget-view+json": {
       "model_id": "0a5da4e8e38a4b379ab1aa827a2ce7d4",
       "version_major": 2,
       "version_minor": 0
      },
      "text/plain": [
       "QUEUEING TASKS | Gate Combinations:   0%|          | 0/35 [00:00<?, ?it/s]"
      ]
     },
     "metadata": {},
     "output_type": "display_data"
    },
    {
     "data": {
      "application/vnd.jupyter.widget-view+json": {
       "model_id": "842f91b54cf74aa48d6552e9139727c7",
       "version_major": 2,
       "version_minor": 0
      },
      "text/plain": [
       "PROCESSING TASKS | Gate Combinations:   0%|          | 0/35 [00:00<?, ?it/s]"
      ]
     },
     "metadata": {},
     "output_type": "display_data"
    },
    {
     "data": {
      "application/vnd.jupyter.widget-view+json": {
       "model_id": "7666dde04d19456f88d171840640c2c4",
       "version_major": 2,
       "version_minor": 0
      },
      "text/plain": [
       "COLLECTING RESULTS | Gate Combinations:   0%|          | 0/35 [00:00<?, ?it/s]"
      ]
     },
     "metadata": {},
     "output_type": "display_data"
    },
    {
     "data": {
      "application/vnd.jupyter.widget-view+json": {
       "model_id": "c1902dbe8c434953963f4125b7d82199",
       "version_major": 2,
       "version_minor": 0
      },
      "text/plain": [
       "QUEUEING TASKS | Optimizing parameters:   0%|          | 0/10 [00:00<?, ?it/s]"
      ]
     },
     "metadata": {},
     "output_type": "display_data"
    },
    {
     "data": {
      "application/vnd.jupyter.widget-view+json": {
       "model_id": "a65b0c7d23634fea8bd841f3e138fb5e",
       "version_major": 2,
       "version_minor": 0
      },
      "text/plain": [
       "PROCESSING TASKS | Optimizing parameters:   0%|          | 0/10 [00:00<?, ?it/s]"
      ]
     },
     "metadata": {},
     "output_type": "display_data"
    },
    {
     "data": {
      "application/vnd.jupyter.widget-view+json": {
       "model_id": "2188bedfca994229bf958c80e96872db",
       "version_major": 2,
       "version_minor": 0
      },
      "text/plain": [
       "COLLECTING RESULTS | Optimizing parameters:   0%|          | 0/10 [00:00<?, ?it/s]"
      ]
     },
     "metadata": {},
     "output_type": "display_data"
    },
    {
     "name": "stdout",
     "output_type": "stream",
     "text": [
      "depth 1 done\n"
     ]
    },
    {
     "data": {
      "application/vnd.jupyter.widget-view+json": {
       "model_id": "2eff4fa048f643deb4312e59903724b9",
       "version_major": 2,
       "version_minor": 0
      },
      "text/plain": [
       "QUEUEING TASKS | Gate Combinations:   0%|          | 0/321 [00:00<?, ?it/s]"
      ]
     },
     "metadata": {},
     "output_type": "display_data"
    },
    {
     "data": {
      "application/vnd.jupyter.widget-view+json": {
       "model_id": "2d6074b4bbb446e4876fe80a658a45d3",
       "version_major": 2,
       "version_minor": 0
      },
      "text/plain": [
       "PROCESSING TASKS | Gate Combinations:   0%|          | 0/321 [00:00<?, ?it/s]"
      ]
     },
     "metadata": {},
     "output_type": "display_data"
    },
    {
     "data": {
      "application/vnd.jupyter.widget-view+json": {
       "model_id": "f26c73c27cfb4f56ab15b828f0ca1799",
       "version_major": 2,
       "version_minor": 0
      },
      "text/plain": [
       "COLLECTING RESULTS | Gate Combinations:   0%|          | 0/321 [00:00<?, ?it/s]"
      ]
     },
     "metadata": {},
     "output_type": "display_data"
    },
    {
     "data": {
      "application/vnd.jupyter.widget-view+json": {
       "model_id": "9406677830f14672963855031c7caa43",
       "version_major": 2,
       "version_minor": 0
      },
      "text/plain": [
       "QUEUEING TASKS | Optimizing parameters:   0%|          | 0/10 [00:00<?, ?it/s]"
      ]
     },
     "metadata": {},
     "output_type": "display_data"
    },
    {
     "data": {
      "application/vnd.jupyter.widget-view+json": {
       "model_id": "2e75624c6ad749d6b2d8d7c8016b5d2e",
       "version_major": 2,
       "version_minor": 0
      },
      "text/plain": [
       "PROCESSING TASKS | Optimizing parameters:   0%|          | 0/10 [00:00<?, ?it/s]"
      ]
     },
     "metadata": {},
     "output_type": "display_data"
    },
    {
     "data": {
      "application/vnd.jupyter.widget-view+json": {
       "model_id": "767daa81e50e4113b0089680224499f3",
       "version_major": 2,
       "version_minor": 0
      },
      "text/plain": [
       "COLLECTING RESULTS | Optimizing parameters:   0%|          | 0/10 [00:00<?, ?it/s]"
      ]
     },
     "metadata": {},
     "output_type": "display_data"
    },
    {
     "name": "stdout",
     "output_type": "stream",
     "text": [
      "depth 2 done\n"
     ]
    },
    {
     "data": {
      "application/vnd.jupyter.widget-view+json": {
       "model_id": "8b49cfc1bb584926bc73c4abab42fe69",
       "version_major": 2,
       "version_minor": 0
      },
      "text/plain": [
       "QUEUEING TASKS | Gate Combinations:   0%|          | 0/329 [00:00<?, ?it/s]"
      ]
     },
     "metadata": {},
     "output_type": "display_data"
    },
    {
     "data": {
      "application/vnd.jupyter.widget-view+json": {
       "model_id": "bdd8a54b522348119fb9d096a64f15e1",
       "version_major": 2,
       "version_minor": 0
      },
      "text/plain": [
       "PROCESSING TASKS | Gate Combinations:   0%|          | 0/329 [00:00<?, ?it/s]"
      ]
     },
     "metadata": {},
     "output_type": "display_data"
    },
    {
     "data": {
      "application/vnd.jupyter.widget-view+json": {
       "model_id": "9b6798ade8a641289b57d573f0505440",
       "version_major": 2,
       "version_minor": 0
      },
      "text/plain": [
       "COLLECTING RESULTS | Gate Combinations:   0%|          | 0/329 [00:00<?, ?it/s]"
      ]
     },
     "metadata": {},
     "output_type": "display_data"
    },
    {
     "data": {
      "application/vnd.jupyter.widget-view+json": {
       "model_id": "cd59de9ef6f24a14a393f24d907a7724",
       "version_major": 2,
       "version_minor": 0
      },
      "text/plain": [
       "QUEUEING TASKS | Optimizing parameters:   0%|          | 0/10 [00:00<?, ?it/s]"
      ]
     },
     "metadata": {},
     "output_type": "display_data"
    },
    {
     "data": {
      "application/vnd.jupyter.widget-view+json": {
       "model_id": "e3e671d4bc4846a390054ebd4f0d5c55",
       "version_major": 2,
       "version_minor": 0
      },
      "text/plain": [
       "PROCESSING TASKS | Optimizing parameters:   0%|          | 0/10 [00:00<?, ?it/s]"
      ]
     },
     "metadata": {},
     "output_type": "display_data"
    },
    {
     "data": {
      "application/vnd.jupyter.widget-view+json": {
       "model_id": "1be83be27c254abd8374c187416d727e",
       "version_major": 2,
       "version_minor": 0
      },
      "text/plain": [
       "COLLECTING RESULTS | Optimizing parameters:   0%|          | 0/10 [00:00<?, ?it/s]"
      ]
     },
     "metadata": {},
     "output_type": "display_data"
    },
    {
     "name": "stdout",
     "output_type": "stream",
     "text": [
      "depth 3 done\n"
     ]
    },
    {
     "data": {
      "application/vnd.jupyter.widget-view+json": {
       "model_id": "44c5034c10b24466b3764bc860619b4f",
       "version_major": 2,
       "version_minor": 0
      },
      "text/plain": [
       "QUEUEING TASKS | Gate Combinations:   0%|          | 0/348 [00:00<?, ?it/s]"
      ]
     },
     "metadata": {},
     "output_type": "display_data"
    },
    {
     "data": {
      "application/vnd.jupyter.widget-view+json": {
       "model_id": "a22cb7744e5941b58424ede21a92601e",
       "version_major": 2,
       "version_minor": 0
      },
      "text/plain": [
       "PROCESSING TASKS | Gate Combinations:   0%|          | 0/348 [00:00<?, ?it/s]"
      ]
     },
     "metadata": {},
     "output_type": "display_data"
    },
    {
     "data": {
      "application/vnd.jupyter.widget-view+json": {
       "model_id": "41e5d6602abf4c78b3f913c93f65f764",
       "version_major": 2,
       "version_minor": 0
      },
      "text/plain": [
       "COLLECTING RESULTS | Gate Combinations:   0%|          | 0/348 [00:00<?, ?it/s]"
      ]
     },
     "metadata": {},
     "output_type": "display_data"
    },
    {
     "data": {
      "application/vnd.jupyter.widget-view+json": {
       "model_id": "6cdf6625787f4b27bacefc631eb1b51a",
       "version_major": 2,
       "version_minor": 0
      },
      "text/plain": [
       "QUEUEING TASKS | Optimizing parameters:   0%|          | 0/10 [00:00<?, ?it/s]"
      ]
     },
     "metadata": {},
     "output_type": "display_data"
    },
    {
     "data": {
      "application/vnd.jupyter.widget-view+json": {
       "model_id": "60eccb8e5752447f83d66f9acaa88a6a",
       "version_major": 2,
       "version_minor": 0
      },
      "text/plain": [
       "PROCESSING TASKS | Optimizing parameters:   0%|          | 0/10 [00:00<?, ?it/s]"
      ]
     },
     "metadata": {},
     "output_type": "display_data"
    },
    {
     "data": {
      "application/vnd.jupyter.widget-view+json": {
       "model_id": "89ba7eea9e664f35b01bcfb1c306c405",
       "version_major": 2,
       "version_minor": 0
      },
      "text/plain": [
       "COLLECTING RESULTS | Optimizing parameters:   0%|          | 0/10 [00:00<?, ?it/s]"
      ]
     },
     "metadata": {},
     "output_type": "display_data"
    },
    {
     "name": "stdout",
     "output_type": "stream",
     "text": [
      "depth 4 done\n"
     ]
    }
   ],
   "source": [
    "#!/usr/bin/env python\n",
    "import itertools\n",
    "import json\n",
    "import numpy as np\n",
    "from typing import List\n",
    "import pennylane as qml\n",
    "from sklearn.svm import SVC\n",
    "from sklearn.model_selection import train_test_split\n",
    "from sklearn.metrics import log_loss\n",
    "from sklearn.utils import shuffle\n",
    "from qiskit_machine_learning.datasets import ad_hoc_data\n",
    "import matplotlib.pyplot as plt\n",
    "import matplotlib\n",
    "import random\n",
    "from tqdm.notebook import tqdm\n",
    "from skopt import gp_minimize\n",
    "from skopt.space import Real\n",
    "from sklearn.metrics import accuracy_score, f1_score, classification_report\n",
    "import seaborn as sns\n",
    "import pandas as pd\n",
    "from collections import Counter\n",
    "from pqdm.processes import pqdm\n",
    "\n",
    "K = 15  # Top circuits to keep per iteration\n",
    "N = 100  # Data size\n",
    "L_MAX = 4  # Max circuit depth\n",
    "QUBITS = 3  # Number of qubits\n",
    "JOBS = 15\n",
    "seed = 42\n",
    "\n",
    "projector = np.zeros((2**QUBITS, 2**QUBITS))\n",
    "projector[0, 0] = 1\n",
    "\n",
    "\n",
    "def gate_combinations_sub(qubits: int, previous_layer: tuple[int]):\n",
    "    if qubits == 0:\n",
    "        yield ()\n",
    "    else:\n",
    "        for combination in gate_combinations_sub(qubits - 1, previous_layer):\n",
    "            yield combination + (0,)\n",
    "            if previous_layer[qubits - 1] != 1:\n",
    "                yield combination + (1,)\n",
    "            if previous_layer[qubits - 1] != 2:\n",
    "                yield combination + (2,)\n",
    "            for offset in range(1, len(combination) + 1):\n",
    "                if (\n",
    "                    combination[-offset] == 0\n",
    "                    and all(\n",
    "                        combination[-offset + o] != o + 2 for o in range(1, offset + 1)\n",
    "                    )\n",
    "                    and previous_layer[qubits - 1] != offset + 2\n",
    "                ):\n",
    "                    yield combination + (offset + 2,)\n",
    "\n",
    "\n",
    "def gate_combinations(qubits, previous_layer):\n",
    "    # skip the 1st output (0 everywhere) so we actually do\n",
    "    return list(gate_combinations_sub(qubits, previous_layer))[1:]\n",
    "\n",
    "\n",
    "def create_pennylane_circuit(instructions: List[List[int]]):\n",
    "    dev = qml.device(\"default.qubit\", wires=QUBITS)\n",
    "\n",
    "    @qml.qnode(dev)\n",
    "    def circuit(xparams=[], yparams=[]):\n",
    "        for q in range(QUBITS):\n",
    "            qml.Hadamard(wires=q)\n",
    "            qml.RZ(xparams[q], wires=q)\n",
    "\n",
    "        idx = 0\n",
    "        for layer in instructions:\n",
    "            for qbit, op in enumerate(layer):\n",
    "                if op == 0:\n",
    "                    continue\n",
    "                elif op == 1:\n",
    "                    qml.Hadamard(wires=qbit)\n",
    "                elif op == 2:\n",
    "                    qml.RZ(yparams[idx]*xparams[qbit], wires=qbit)\n",
    "                    idx += 1\n",
    "                elif op >= 3:\n",
    "                    qml.CNOT(wires=[qbit, qbit - op + 2])\n",
    "        return qml.state()\n",
    "\n",
    "    return circuit\n",
    "\n",
    "\n",
    "def build_kernel_fn(gate_layers, rz_params):\n",
    "    dev = qml.device(\"default.qubit\", wires=QUBITS)\n",
    "    dev2 = qml.device(\"default.qubit\", wires=QUBITS)\n",
    "\n",
    "    def apply_circuit(x):\n",
    "        idx = 0\n",
    "        for q in range(QUBITS):\n",
    "            qml.Hadamard(wires=q)\n",
    "            qml.RZ(x[q], wires=q)\n",
    "        for layer in gate_layers:\n",
    "            for qbit, op in enumerate(layer):\n",
    "                if op == 0:\n",
    "                    continue\n",
    "                elif op == 1:\n",
    "                    qml.Hadamard(wires=qbit)\n",
    "                elif op == 2:\n",
    "                    qml.RZ(rz_params[idx]*x[qbit], wires=qbit)\n",
    "                    idx += 1\n",
    "                elif op >= 3:\n",
    "                    qml.CNOT(wires=[qbit, qbit - op + 2])\n",
    "        \n",
    "\n",
    "    @qml.qnode(dev)\n",
    "    def kernel_qnode(x1, x2):\n",
    "        apply_circuit(x1)\n",
    "        qml.adjoint(apply_circuit)(x2)\n",
    "        # return qml.probs(wires=0)\n",
    "        # return qml.expval(qml.PauliZ(wires=range(QUBITS)))\n",
    "        return qml.expval(qml.Hermitian(projector, wires=range(QUBITS)))\n",
    "\n",
    "    def kernel_fn(X1, X2):\n",
    "        K = np.zeros((len(X1), len(X2)))\n",
    "        for i in range(len(X1)):\n",
    "            for j in range(len(X2)):\n",
    "                K[i, j] = kernel_qnode(X1[i], X2[j])\n",
    "        return K\n",
    "\n",
    "    return kernel_fn\n",
    "\n",
    "\n",
    "def compute_information_criteria(y_true, y_prob, num_params):\n",
    "    y_pred = (y_prob >= 0.5).astype(int)\n",
    "    n = len(y_true)\n",
    "    loglik = -log_loss(y_true, y_prob, normalize=False)\n",
    "    aic = 2 * num_params - 2 * loglik\n",
    "    bic = num_params * np.log(n) - 2 * loglik\n",
    "\n",
    "    acc = accuracy_score(y_true, y_pred)\n",
    "    f1 = f1_score(y_true, y_pred)\n",
    "\n",
    "    report = classification_report(y_true, y_pred, output_dict=True, zero_division=0)\n",
    "    class_accuracies = {\n",
    "        f\"class_{cls}\": report[cls][\"recall\"] for cls in report if cls in (\"0\", \"1\")\n",
    "    }\n",
    "\n",
    "    return aic, bic, acc, class_accuracies, f1\n",
    "\n",
    "\n",
    "gap = 0.5\n",
    "# Load data\n",
    "x_raw, y_raw, X_test, y_test = ad_hoc_data(\n",
    "    training_size=N, test_size=4100//2, n=QUBITS, gap=gap, one_hot=False\n",
    ")\n",
    "\n",
    "# Shuffle 2N training examples\n",
    "x_raw, y_raw = shuffle(x_raw, y_raw, random_state=seed)\n",
    "\n",
    "# Split into train and validation (each size N)\n",
    "x_train, x_val, y_train, y_val = train_test_split(\n",
    "    x_raw, y_raw, test_size=0.5, random_state=seed\n",
    ")\n",
    "\n",
    "x = np.vstack([x_raw, x_raw])\n",
    "y = np.hstack([y_raw, y_raw])\n",
    "x, y = shuffle(x, y, random_state=seed)\n",
    "\n",
    "\n",
    "def compute_test_values(circ, rz, model):\n",
    "    num_rz = len(rz)\n",
    "    try:\n",
    "        kernel_fn = build_kernel_fn(circ, rz)\n",
    "        K_test = kernel_fn(X_test, x_train)\n",
    "        y_prob = model.predict_proba(K_test)[:, 1]\n",
    "        aic, bic, acc, class_accs, f1 = compute_information_criteria(\n",
    "            y_test, y_prob, num_rz\n",
    "        )\n",
    "        return acc, bic, acc, class_accs, f1\n",
    "    except Exception as e:\n",
    "        print(f\"Test evaluation error: {e}\")\n",
    "        return None, None, None, None, None\n",
    "\n",
    "\n",
    "best_circuit_arr = []\n",
    "\n",
    "for m in [10]:\n",
    "    optimal_circuits = []\n",
    "    for depth in tqdm(range(1, L_MAX + 1), desc=\"Depth\", position=3, leave=False):\n",
    "        base_circuits = (\n",
    "            [(c[0], c[1]) for c in optimal_circuits]\n",
    "            if optimal_circuits\n",
    "            else [([tuple(0 for _ in range(QUBITS))], [])]\n",
    "        )\n",
    "\n",
    "        # Stage 1: Structure search (fixed/random RZ)\n",
    "        def calculate_combo(inp):\n",
    "            base, base_rz, combo = inp\n",
    "            new_circ = base + [combo]\n",
    "            num_rz = sum(layer.count(2) for layer in new_circ)\n",
    "            # print(f\"Trying circuit {new_circ} with {num_rz} RZs\")\n",
    "            new_rz_count = combo.count(2)\n",
    "            new_rz = np.random.uniform(-np.pi, np.pi, size=new_rz_count).tolist()\n",
    "            dummy_rz = base_rz + new_rz\n",
    "\n",
    "            try:\n",
    "                kernel_fn = build_kernel_fn(new_circ, dummy_rz)\n",
    "                K_train = kernel_fn(x_train, x_train)\n",
    "                model = SVC(kernel=\"precomputed\", probability=True)\n",
    "                model.fit(K_train, y_train)\n",
    "\n",
    "                K_val = kernel_fn(x_val, x_train)\n",
    "                y_prob = model.predict_proba(K_val)[:, 1]\n",
    "\n",
    "                aic, bic, acc, class_accs, f1 = compute_information_criteria(\n",
    "                    y_val, y_prob, num_rz\n",
    "                )\n",
    "                # print(f\"combo {combo} has BIC {bic}\")\n",
    "                return (new_circ, dummy_rz, aic, bic, acc, class_accs, f1, model)\n",
    "            except Exception as e:\n",
    "                print(f\"Structure error: {e}\")\n",
    "                return None\n",
    "\n",
    "        result = pqdm(\n",
    "            [\n",
    "                (base, rz, combo)\n",
    "                for base, rz in base_circuits\n",
    "                for combo in gate_combinations(QUBITS, base[-1])\n",
    "            ],\n",
    "            calculate_combo,\n",
    "            n_jobs=JOBS,\n",
    "            desc=\"Gate Combinations\",\n",
    "            position=1,\n",
    "            leave=False,\n",
    "        )\n",
    "        stage1_candidates = []\n",
    "        for thing in result:\n",
    "            stage1_candidates.append(thing)\n",
    "\n",
    "        # Pick top K by AIC\n",
    "        stage1_candidates.sort(key=lambda x: x[2])\n",
    "        param = [cand for cand in stage1_candidates if len(cand[1]) > 0]\n",
    "        top_m = param[:m]\n",
    "        non_param = [cand for cand in stage1_candidates if len(cand[1]) == 0]\n",
    "        # Stage 2: Parameter optimization on top M circuits\n",
    "        stage2_optimized = []\n",
    "\n",
    "        def parameter_optimization(values):\n",
    "            circ, init_rz, aic, bic, acc, class_accs, f1, model1 = values\n",
    "            num_rz = len(init_rz)\n",
    "            if num_rz == 0:\n",
    "                return (circ, [], aic, bic, acc, class_accs, f1, model1)\n",
    "\n",
    "            def objective(params):\n",
    "                try:\n",
    "                    kernel_fn = build_kernel_fn(circ, params)\n",
    "                    K_train = kernel_fn(x_train, x_train)\n",
    "                    model = SVC(kernel=\"precomputed\", probability=True)\n",
    "                    model.fit(K_train, y_train)\n",
    "                    K_val = kernel_fn(x_val, x_train)\n",
    "                    y_prob = model.predict_proba(K_val)[:, 1]\n",
    "                    aic, bic, acc, class_accs, f1 = compute_information_criteria(\n",
    "                        y_val, y_prob, num_rz\n",
    "                    )\n",
    "                    return aic\n",
    "                except Exception:\n",
    "                    return 1e6\n",
    "\n",
    "            space = [Real(-np.pi, np.pi) for _ in range(num_rz)]\n",
    "            result = gp_minimize(objective, space, n_calls=15, random_state=seed)\n",
    "            best_params = result.x\n",
    "\n",
    "            try:\n",
    "                kernel_fn = build_kernel_fn(circ, best_params)\n",
    "                K_train = kernel_fn(x_train, x_train)\n",
    "                model = SVC(kernel=\"precomputed\", probability=True)\n",
    "                model.fit(K_train, y_train)\n",
    "                K_val = kernel_fn(x_val, x_train)\n",
    "                y_prob = model.predict_proba(K_val)[:, 1]\n",
    "                aic, bic, acc, class_accs, f1 = compute_information_criteria(\n",
    "                    y_val, y_prob, num_rz\n",
    "                )\n",
    "                return (circ, best_params, aic, bic, acc, class_accs, f1, model)\n",
    "\n",
    "            except Exception as e:\n",
    "                print(f\"Final model error: {e}\")\n",
    "                return None\n",
    "\n",
    "        stage2_optimized = [\n",
    "            x\n",
    "            for x in pqdm(\n",
    "                top_m,\n",
    "                parameter_optimization,\n",
    "                n_jobs=JOBS,\n",
    "                position=2,\n",
    "                leave=False,\n",
    "                desc=\"Optimizing parameters\",\n",
    "            )\n",
    "            if x is not None\n",
    "        ]\n",
    "\n",
    "        # Add remaining K-M circuits (unoptimized) + optimized ones\n",
    "        optimal_circuits = stage2_optimized + non_param[:K] + param[m:]\n",
    "        optimal_circuits.sort(key=lambda x: x[2])  # sort by AIC\n",
    "        optimal_circuits = optimal_circuits[:K]  # keep top K\n",
    "\n",
    "        aic, bic, acc, class_accs, f1 = compute_test_values(\n",
    "            optimal_circuits[0][0], optimal_circuits[0][1], optimal_circuits[0][7]\n",
    "        )\n",
    "\n",
    "        best_circuit_arr.append(\n",
    "            (optimal_circuits[0] + (m, depth) + (aic, bic, acc, class_accs, f1))\n",
    "        )\n",
    "        print(f\"depth {depth} done\")\n",
    "\n",
    "        with open(\"data_aic7.json\", \"w+\") as f:\n",
    "            json.dump(\n",
    "                [\n",
    "                    (\n",
    "                        m,\n",
    "                        depth,\n",
    "                        circ,\n",
    "                        best_params,\n",
    "                        aic,\n",
    "                        bic,\n",
    "                        acc,\n",
    "                        class_accs,\n",
    "                        f1,\n",
    "                        aic_test,\n",
    "                        bic_test,\n",
    "                        acc_test,\n",
    "                        class_accs_test,\n",
    "                        f1_test,\n",
    "                    )\n",
    "                    for (\n",
    "                        circ,\n",
    "                        best_params,\n",
    "                        aic,\n",
    "                        bic,\n",
    "                        acc,\n",
    "                        class_accs,\n",
    "                        f1,\n",
    "                        model,\n",
    "                        m,\n",
    "                        depth,\n",
    "                        aic_test,\n",
    "                        bic_test,\n",
    "                        acc_test,\n",
    "                        class_accs_test,\n",
    "                        f1_test,\n",
    "                    ) in best_circuit_arr\n",
    "                ],\n",
    "                f,\n",
    "            )"
   ]
  },
  {
   "cell_type": "code",
   "execution_count": 11,
   "id": "6875a353",
   "metadata": {},
   "outputs": [
    {
     "data": {
      "application/vnd.jupyter.widget-view+json": {
       "model_id": "c70dc2322d6f454ea177c9c4809834f3",
       "version_major": 2,
       "version_minor": 0
      },
      "text/plain": [
       "Depth:   0%|          | 0/4 [00:00<?, ?it/s]"
      ]
     },
     "metadata": {},
     "output_type": "display_data"
    },
    {
     "data": {
      "application/vnd.jupyter.widget-view+json": {
       "model_id": "cfa7876c9c5846bd9778e738f78e331b",
       "version_major": 2,
       "version_minor": 0
      },
      "text/plain": [
       "QUEUEING TASKS | Gate Combinations:   0%|          | 0/35 [00:00<?, ?it/s]"
      ]
     },
     "metadata": {},
     "output_type": "display_data"
    },
    {
     "data": {
      "application/vnd.jupyter.widget-view+json": {
       "model_id": "e113970906474e32b9b4df001ba06545",
       "version_major": 2,
       "version_minor": 0
      },
      "text/plain": [
       "PROCESSING TASKS | Gate Combinations:   0%|          | 0/35 [00:00<?, ?it/s]"
      ]
     },
     "metadata": {},
     "output_type": "display_data"
    },
    {
     "data": {
      "application/vnd.jupyter.widget-view+json": {
       "model_id": "ed813e0887ed460b9df12b8a0c35fc5e",
       "version_major": 2,
       "version_minor": 0
      },
      "text/plain": [
       "COLLECTING RESULTS | Gate Combinations:   0%|          | 0/35 [00:00<?, ?it/s]"
      ]
     },
     "metadata": {},
     "output_type": "display_data"
    },
    {
     "data": {
      "application/vnd.jupyter.widget-view+json": {
       "model_id": "a28b8e197f6a4508bf2d7c124b5d8fdb",
       "version_major": 2,
       "version_minor": 0
      },
      "text/plain": [
       "QUEUEING TASKS | Optimizing parameters:   0%|          | 0/10 [00:00<?, ?it/s]"
      ]
     },
     "metadata": {},
     "output_type": "display_data"
    },
    {
     "data": {
      "application/vnd.jupyter.widget-view+json": {
       "model_id": "53c7657b1ad14adcab4b2f82e26d2619",
       "version_major": 2,
       "version_minor": 0
      },
      "text/plain": [
       "PROCESSING TASKS | Optimizing parameters:   0%|          | 0/10 [00:00<?, ?it/s]"
      ]
     },
     "metadata": {},
     "output_type": "display_data"
    },
    {
     "data": {
      "application/vnd.jupyter.widget-view+json": {
       "model_id": "553b24bde69c4bbda97e87befefddc56",
       "version_major": 2,
       "version_minor": 0
      },
      "text/plain": [
       "COLLECTING RESULTS | Optimizing parameters:   0%|          | 0/10 [00:00<?, ?it/s]"
      ]
     },
     "metadata": {},
     "output_type": "display_data"
    },
    {
     "name": "stdout",
     "output_type": "stream",
     "text": [
      "depth 1 done\n"
     ]
    },
    {
     "data": {
      "application/vnd.jupyter.widget-view+json": {
       "model_id": "066331d6ca8c428c99e0cdf749e8ab97",
       "version_major": 2,
       "version_minor": 0
      },
      "text/plain": [
       "QUEUEING TASKS | Gate Combinations:   0%|          | 0/319 [00:00<?, ?it/s]"
      ]
     },
     "metadata": {},
     "output_type": "display_data"
    },
    {
     "data": {
      "application/vnd.jupyter.widget-view+json": {
       "model_id": "ec806b2ef4dd436ca7bdc01608301cea",
       "version_major": 2,
       "version_minor": 0
      },
      "text/plain": [
       "PROCESSING TASKS | Gate Combinations:   0%|          | 0/319 [00:00<?, ?it/s]"
      ]
     },
     "metadata": {},
     "output_type": "display_data"
    },
    {
     "data": {
      "application/vnd.jupyter.widget-view+json": {
       "model_id": "b7ee32a704774f1b9fad77e15cfaf2f8",
       "version_major": 2,
       "version_minor": 0
      },
      "text/plain": [
       "COLLECTING RESULTS | Gate Combinations:   0%|          | 0/319 [00:00<?, ?it/s]"
      ]
     },
     "metadata": {},
     "output_type": "display_data"
    },
    {
     "data": {
      "application/vnd.jupyter.widget-view+json": {
       "model_id": "4d876cd208e7497da9f2330752ce107a",
       "version_major": 2,
       "version_minor": 0
      },
      "text/plain": [
       "QUEUEING TASKS | Optimizing parameters:   0%|          | 0/10 [00:00<?, ?it/s]"
      ]
     },
     "metadata": {},
     "output_type": "display_data"
    },
    {
     "data": {
      "application/vnd.jupyter.widget-view+json": {
       "model_id": "c4869a16ae114708ae914daf4627c0ab",
       "version_major": 2,
       "version_minor": 0
      },
      "text/plain": [
       "PROCESSING TASKS | Optimizing parameters:   0%|          | 0/10 [00:00<?, ?it/s]"
      ]
     },
     "metadata": {},
     "output_type": "display_data"
    },
    {
     "data": {
      "application/vnd.jupyter.widget-view+json": {
       "model_id": "765a09bd74584a4d907e7f9bef7c2bdc",
       "version_major": 2,
       "version_minor": 0
      },
      "text/plain": [
       "COLLECTING RESULTS | Optimizing parameters:   0%|          | 0/10 [00:00<?, ?it/s]"
      ]
     },
     "metadata": {},
     "output_type": "display_data"
    },
    {
     "name": "stdout",
     "output_type": "stream",
     "text": [
      "depth 2 done\n"
     ]
    },
    {
     "data": {
      "application/vnd.jupyter.widget-view+json": {
       "model_id": "6a96b42180d3434e8bf8c92c3edd8015",
       "version_major": 2,
       "version_minor": 0
      },
      "text/plain": [
       "QUEUEING TASKS | Gate Combinations:   0%|          | 0/304 [00:00<?, ?it/s]"
      ]
     },
     "metadata": {},
     "output_type": "display_data"
    },
    {
     "data": {
      "application/vnd.jupyter.widget-view+json": {
       "model_id": "19a1c37bdead4eb188108d8528f6c87a",
       "version_major": 2,
       "version_minor": 0
      },
      "text/plain": [
       "PROCESSING TASKS | Gate Combinations:   0%|          | 0/304 [00:00<?, ?it/s]"
      ]
     },
     "metadata": {},
     "output_type": "display_data"
    },
    {
     "data": {
      "application/vnd.jupyter.widget-view+json": {
       "model_id": "9e15202a0ae04845974472d7ceebc1aa",
       "version_major": 2,
       "version_minor": 0
      },
      "text/plain": [
       "COLLECTING RESULTS | Gate Combinations:   0%|          | 0/304 [00:00<?, ?it/s]"
      ]
     },
     "metadata": {},
     "output_type": "display_data"
    },
    {
     "data": {
      "application/vnd.jupyter.widget-view+json": {
       "model_id": "f79ed3f3d7c64d37b782a6c5bfeae99f",
       "version_major": 2,
       "version_minor": 0
      },
      "text/plain": [
       "QUEUEING TASKS | Optimizing parameters:   0%|          | 0/10 [00:00<?, ?it/s]"
      ]
     },
     "metadata": {},
     "output_type": "display_data"
    },
    {
     "data": {
      "application/vnd.jupyter.widget-view+json": {
       "model_id": "30b6b1ed5f2b41668f301723f66be4c6",
       "version_major": 2,
       "version_minor": 0
      },
      "text/plain": [
       "PROCESSING TASKS | Optimizing parameters:   0%|          | 0/10 [00:00<?, ?it/s]"
      ]
     },
     "metadata": {},
     "output_type": "display_data"
    },
    {
     "data": {
      "application/vnd.jupyter.widget-view+json": {
       "model_id": "92dedf765aa04e2b86241da2595a63b6",
       "version_major": 2,
       "version_minor": 0
      },
      "text/plain": [
       "COLLECTING RESULTS | Optimizing parameters:   0%|          | 0/10 [00:00<?, ?it/s]"
      ]
     },
     "metadata": {},
     "output_type": "display_data"
    },
    {
     "name": "stdout",
     "output_type": "stream",
     "text": [
      "depth 3 done\n"
     ]
    },
    {
     "data": {
      "application/vnd.jupyter.widget-view+json": {
       "model_id": "7602ba196d8b410d9c444869cf1a22ef",
       "version_major": 2,
       "version_minor": 0
      },
      "text/plain": [
       "QUEUEING TASKS | Gate Combinations:   0%|          | 0/404 [00:00<?, ?it/s]"
      ]
     },
     "metadata": {},
     "output_type": "display_data"
    },
    {
     "data": {
      "application/vnd.jupyter.widget-view+json": {
       "model_id": "1989387d71bd49fc871dfab3f1b7304d",
       "version_major": 2,
       "version_minor": 0
      },
      "text/plain": [
       "PROCESSING TASKS | Gate Combinations:   0%|          | 0/404 [00:00<?, ?it/s]"
      ]
     },
     "metadata": {},
     "output_type": "display_data"
    },
    {
     "data": {
      "application/vnd.jupyter.widget-view+json": {
       "model_id": "d817c03b9b9f48b0bc533966ba6c3305",
       "version_major": 2,
       "version_minor": 0
      },
      "text/plain": [
       "COLLECTING RESULTS | Gate Combinations:   0%|          | 0/404 [00:00<?, ?it/s]"
      ]
     },
     "metadata": {},
     "output_type": "display_data"
    },
    {
     "data": {
      "application/vnd.jupyter.widget-view+json": {
       "model_id": "7a42503adbe34ffc8022ab70e8a969e1",
       "version_major": 2,
       "version_minor": 0
      },
      "text/plain": [
       "QUEUEING TASKS | Optimizing parameters:   0%|          | 0/10 [00:00<?, ?it/s]"
      ]
     },
     "metadata": {},
     "output_type": "display_data"
    },
    {
     "data": {
      "application/vnd.jupyter.widget-view+json": {
       "model_id": "067af28fc6564cd18686b6b7fc4bc492",
       "version_major": 2,
       "version_minor": 0
      },
      "text/plain": [
       "PROCESSING TASKS | Optimizing parameters:   0%|          | 0/10 [00:00<?, ?it/s]"
      ]
     },
     "metadata": {},
     "output_type": "display_data"
    },
    {
     "data": {
      "application/vnd.jupyter.widget-view+json": {
       "model_id": "8ad573e5af24401d8c2cb6ef3d944116",
       "version_major": 2,
       "version_minor": 0
      },
      "text/plain": [
       "COLLECTING RESULTS | Optimizing parameters:   0%|          | 0/10 [00:00<?, ?it/s]"
      ]
     },
     "metadata": {},
     "output_type": "display_data"
    },
    {
     "name": "stdout",
     "output_type": "stream",
     "text": [
      "depth 4 done\n"
     ]
    }
   ],
   "source": [
    "#!/usr/bin/env python\n",
    "import itertools\n",
    "import json\n",
    "import numpy as np\n",
    "from typing import List\n",
    "import pennylane as qml\n",
    "from sklearn.svm import SVC\n",
    "from sklearn.model_selection import train_test_split\n",
    "from sklearn.metrics import log_loss\n",
    "from sklearn.utils import shuffle\n",
    "from qiskit_machine_learning.datasets import ad_hoc_data\n",
    "import matplotlib.pyplot as plt\n",
    "import matplotlib\n",
    "import random\n",
    "from tqdm.notebook import tqdm\n",
    "from skopt import gp_minimize\n",
    "from skopt.space import Real\n",
    "from sklearn.metrics import accuracy_score, f1_score, classification_report\n",
    "import seaborn as sns\n",
    "import pandas as pd\n",
    "from collections import Counter\n",
    "from pqdm.processes import pqdm\n",
    "\n",
    "K = 15  # Top circuits to keep per iteration\n",
    "N = 100  # Data size\n",
    "L_MAX = 4  # Max circuit depth\n",
    "QUBITS = 3  # Number of qubits\n",
    "JOBS = 15\n",
    "seed = 42\n",
    "\n",
    "projector = np.zeros((2**QUBITS, 2**QUBITS))\n",
    "projector[0, 0] = 1\n",
    "\n",
    "\n",
    "def gate_combinations_sub(qubits: int, previous_layer: tuple[int]):\n",
    "    if qubits == 0:\n",
    "        yield ()\n",
    "    else:\n",
    "        for combination in gate_combinations_sub(qubits - 1, previous_layer):\n",
    "            yield combination + (0,)\n",
    "            if previous_layer[qubits - 1] != 1:\n",
    "                yield combination + (1,)\n",
    "            if previous_layer[qubits - 1] != 2:\n",
    "                yield combination + (2,)\n",
    "            for offset in range(1, len(combination) + 1):\n",
    "                if (\n",
    "                    combination[-offset] == 0\n",
    "                    and all(\n",
    "                        combination[-offset + o] != o + 2 for o in range(1, offset + 1)\n",
    "                    )\n",
    "                    and previous_layer[qubits - 1] != offset + 2\n",
    "                ):\n",
    "                    yield combination + (offset + 2,)\n",
    "\n",
    "\n",
    "def gate_combinations(qubits, previous_layer):\n",
    "    # skip the 1st output (0 everywhere) so we actually do\n",
    "    return list(gate_combinations_sub(qubits, previous_layer))[1:]\n",
    "\n",
    "\n",
    "def create_pennylane_circuit(instructions: List[List[int]]):\n",
    "    dev = qml.device(\"default.qubit\", wires=QUBITS)\n",
    "\n",
    "    @qml.qnode(dev)\n",
    "    def circuit(xparams=[], yparams=[]):\n",
    "        for q in range(QUBITS):\n",
    "            qml.Hadamard(wires=q)\n",
    "            qml.RZ(xparams[q], wires=q)\n",
    "\n",
    "        idx = 0\n",
    "        for layer in instructions:\n",
    "            for qbit, op in enumerate(layer):\n",
    "                if op == 0:\n",
    "                    continue\n",
    "                elif op == 1:\n",
    "                    qml.Hadamard(wires=qbit)\n",
    "                elif op == 2:\n",
    "                    qml.RZ(yparams[idx]*xparams[qbit], wires=qbit)\n",
    "                    idx += 1\n",
    "                elif op >= 3:\n",
    "                    qml.CNOT(wires=[qbit, qbit - op + 2])\n",
    "        return qml.state()\n",
    "\n",
    "    return circuit\n",
    "\n",
    "\n",
    "def build_kernel_fn(gate_layers, rz_params):\n",
    "    dev = qml.device(\"default.qubit\", wires=QUBITS)\n",
    "    dev2 = qml.device(\"default.qubit\", wires=QUBITS)\n",
    "\n",
    "    def apply_circuit(x):\n",
    "        idx = 0\n",
    "        for q in range(QUBITS):\n",
    "            qml.Hadamard(wires=q)\n",
    "            qml.RZ(x[q], wires=q)\n",
    "        for layer in gate_layers:\n",
    "            for qbit, op in enumerate(layer):\n",
    "                if op == 0:\n",
    "                    continue\n",
    "                elif op == 1:\n",
    "                    qml.Hadamard(wires=qbit)\n",
    "                elif op == 2:\n",
    "                    qml.RZ(rz_params[idx]*x[qbit], wires=qbit)\n",
    "                    idx += 1\n",
    "                elif op >= 3:\n",
    "                    qml.CNOT(wires=[qbit, qbit - op + 2])\n",
    "\n",
    "    @qml.qnode(dev)\n",
    "    def kernel_qnode(x1, x2):\n",
    "        apply_circuit(x1)\n",
    "        qml.adjoint(apply_circuit)(x2)\n",
    "        # return qml.probs(wires=0)\n",
    "        # return qml.expval(qml.PauliZ(wires=range(QUBITS)))\n",
    "        return qml.expval(qml.Hermitian(projector, wires=range(QUBITS)))\n",
    "\n",
    "    def kernel_fn(X1, X2):\n",
    "        K = np.zeros((len(X1), len(X2)))\n",
    "        for i in range(len(X1)):\n",
    "            for j in range(len(X2)):\n",
    "                K[i, j] = kernel_qnode(X1[i], X2[j])\n",
    "        return K\n",
    "\n",
    "    return kernel_fn\n",
    "\n",
    "\n",
    "def compute_information_criteria(y_true, y_prob, num_params):\n",
    "    y_pred = (y_prob >= 0.5).astype(int)\n",
    "    n = len(y_true)\n",
    "    loglik = -log_loss(y_true, y_prob, normalize=False)\n",
    "    aic = 2 * num_params - 2 * loglik\n",
    "    bic = num_params * np.log(n) - 2 * loglik\n",
    "\n",
    "    acc = accuracy_score(y_true, y_pred)\n",
    "    f1 = f1_score(y_true, y_pred)\n",
    "\n",
    "    report = classification_report(y_true, y_pred, output_dict=True, zero_division=0)\n",
    "    class_accuracies = {\n",
    "        f\"class_{cls}\": report[cls][\"recall\"] for cls in report if cls in (\"0\", \"1\")\n",
    "    }\n",
    "\n",
    "    return aic, bic, acc, class_accuracies, f1\n",
    "\n",
    "\n",
    "gap = 0.5\n",
    "# Load data\n",
    "x_raw, y_raw, X_test, y_test = ad_hoc_data(\n",
    "    training_size=N, test_size=4100//2, n=QUBITS, gap=gap, one_hot=False\n",
    ")\n",
    "\n",
    "# Shuffle 2N training examples\n",
    "x_raw, y_raw = shuffle(x_raw, y_raw, random_state=seed)\n",
    "\n",
    "# Split into train and validation (each size N)\n",
    "x_train, x_val, y_train, y_val = train_test_split(\n",
    "    x_raw, y_raw, test_size=0.5, random_state=seed\n",
    ")\n",
    "\n",
    "x = np.vstack([x_raw, x_raw])\n",
    "y = np.hstack([y_raw, y_raw])\n",
    "x, y = shuffle(x, y, random_state=seed)\n",
    "\n",
    "\n",
    "def compute_test_values(circ, rz, model):\n",
    "    num_rz = len(rz)\n",
    "    try:\n",
    "        kernel_fn = build_kernel_fn(circ, rz)\n",
    "        K_test = kernel_fn(X_test, x_train)\n",
    "        y_prob = model.predict_proba(K_test)[:, 1]\n",
    "        aic, bic, acc, class_accs, f1 = compute_information_criteria(\n",
    "            y_test, y_prob, num_rz\n",
    "        )\n",
    "        return acc, bic, acc, class_accs, f1\n",
    "    except Exception as e:\n",
    "        print(f\"Test evaluation error: {e}\")\n",
    "        return None, None, None, None, None\n",
    "\n",
    "\n",
    "best_circuit_arr = []\n",
    "\n",
    "for m in [10]:\n",
    "    optimal_circuits = []\n",
    "    for depth in tqdm(range(1, L_MAX + 1), desc=\"Depth\", position=3, leave=False):\n",
    "        base_circuits = (\n",
    "            [(c[0], c[1]) for c in optimal_circuits]\n",
    "            if optimal_circuits\n",
    "            else [([tuple(0 for _ in range(QUBITS))], [])]\n",
    "        )\n",
    "\n",
    "        # Stage 1: Structure search (fixed/random RZ)\n",
    "        def calculate_combo(inp):\n",
    "            base, base_rz, combo = inp\n",
    "            new_circ = base + [combo]\n",
    "            num_rz = sum(layer.count(2) for layer in new_circ)\n",
    "            # print(f\"Trying circuit {new_circ} with {num_rz} RZs\")\n",
    "            new_rz_count = combo.count(2)\n",
    "            new_rz = np.random.uniform(-np.pi, np.pi, size=new_rz_count).tolist()\n",
    "            dummy_rz = base_rz + new_rz\n",
    "\n",
    "            try:\n",
    "                kernel_fn = build_kernel_fn(new_circ, dummy_rz)\n",
    "                K_train = kernel_fn(x_train, x_train)\n",
    "                model = SVC(kernel=\"precomputed\", probability=True)\n",
    "                model.fit(K_train, y_train)\n",
    "\n",
    "                K_val = kernel_fn(x_val, x_train)\n",
    "                y_prob = model.predict_proba(K_val)[:, 1]\n",
    "\n",
    "                aic, bic, acc, class_accs, f1 = compute_information_criteria(\n",
    "                    y_val, y_prob, num_rz\n",
    "                )\n",
    "                # print(f\"combo {combo} has BIC {bic}\")\n",
    "                return (new_circ, dummy_rz, aic, bic, acc, class_accs, f1, model)\n",
    "            except Exception as e:\n",
    "                print(f\"Structure error: {e}\")\n",
    "                return None\n",
    "\n",
    "        result = pqdm(\n",
    "            [\n",
    "                (base, rz, combo)\n",
    "                for base, rz in base_circuits\n",
    "                for combo in gate_combinations(QUBITS, base[-1])\n",
    "            ],\n",
    "            calculate_combo,\n",
    "            n_jobs=JOBS,\n",
    "            desc=\"Gate Combinations\",\n",
    "            position=1,\n",
    "            leave=False,\n",
    "        )\n",
    "        stage1_candidates = []\n",
    "        for thing in result:\n",
    "            stage1_candidates.append(thing)\n",
    "\n",
    "        # Pick top K by accuracy\n",
    "        stage1_candidates.sort(key=lambda x: x[4],reverse=True)\n",
    "        param = [cand for cand in stage1_candidates if len(cand[1]) > 0]\n",
    "        top_m = param[:m]\n",
    "        non_param = [cand for cand in stage1_candidates if len(cand[1]) == 0]\n",
    "        # Stage 2: Parameter optimization on top M circuits\n",
    "        stage2_optimized = []\n",
    "\n",
    "        def parameter_optimization(values):\n",
    "            circ, init_rz, aic, bic, acc, class_accs, f1, model1 = values\n",
    "            num_rz = len(init_rz)\n",
    "            if num_rz == 0:\n",
    "                return (circ, [], aic, bic, acc, class_accs, f1, model1)\n",
    "\n",
    "            def objective(params):\n",
    "                try:\n",
    "                    kernel_fn = build_kernel_fn(circ, params)\n",
    "                    K_train = kernel_fn(x_train, x_train)\n",
    "                    model = SVC(kernel=\"precomputed\", probability=True)\n",
    "                    model.fit(K_train, y_train)\n",
    "                    K_val = kernel_fn(x_val, x_train)\n",
    "                    y_prob = model.predict_proba(K_val)[:, 1]\n",
    "                    aic, bic, acc, class_accs, f1 = compute_information_criteria(\n",
    "                        y_val, y_prob, num_rz\n",
    "                    )\n",
    "                    return -acc\n",
    "                except Exception:\n",
    "                    return 1e6\n",
    "\n",
    "            space = [Real(-np.pi, np.pi) for _ in range(num_rz)]\n",
    "            result = gp_minimize(objective, space, n_calls=15, random_state=seed)\n",
    "            best_params = result.x\n",
    "\n",
    "            try:\n",
    "                kernel_fn = build_kernel_fn(circ, best_params)\n",
    "                K_train = kernel_fn(x_train, x_train)\n",
    "                model = SVC(kernel=\"precomputed\", probability=True)\n",
    "                model.fit(K_train, y_train)\n",
    "                K_val = kernel_fn(x_val, x_train)\n",
    "                y_prob = model.predict_proba(K_val)[:, 1]\n",
    "                aic, bic, acc, class_accs, f1 = compute_information_criteria(\n",
    "                    y_val, y_prob, num_rz\n",
    "                )\n",
    "                return (circ, best_params, aic, bic, acc, class_accs, f1, model)\n",
    "\n",
    "            except Exception as e:\n",
    "                print(f\"Final model error: {e}\")\n",
    "                return None\n",
    "\n",
    "        stage2_optimized = [\n",
    "            x\n",
    "            for x in pqdm(\n",
    "                top_m,\n",
    "                parameter_optimization,\n",
    "                n_jobs=JOBS,\n",
    "                position=2,\n",
    "                leave=False,\n",
    "                desc=\"Optimizing parameters\",\n",
    "            )\n",
    "            if x is not None\n",
    "        ]\n",
    "\n",
    "        # Add remaining K-M circuits (unoptimized) + optimized ones\n",
    "        optimal_circuits = stage2_optimized + non_param[:K] + param[m:]\n",
    "        optimal_circuits.sort(key=lambda x: x[4],reverse=True)  # sort by accuracy\n",
    "        optimal_circuits = optimal_circuits[:K]  # keep top K\n",
    "\n",
    "        aic, bic, acc, class_accs, f1 = compute_test_values(\n",
    "            optimal_circuits[0][0], optimal_circuits[0][1], optimal_circuits[0][7]\n",
    "        )\n",
    "\n",
    "        best_circuit_arr.append(\n",
    "            (optimal_circuits[0] + (m, depth) + (aic, bic, acc, class_accs, f1))\n",
    "        )\n",
    "        print(f\"depth {depth} done\")\n",
    "\n",
    "        with open(\"data_acc7.json\", \"w+\") as f:\n",
    "            json.dump(\n",
    "                [\n",
    "                    (\n",
    "                        m,\n",
    "                        depth,\n",
    "                        circ,\n",
    "                        best_params,\n",
    "                        aic,\n",
    "                        bic,\n",
    "                        acc,\n",
    "                        class_accs,\n",
    "                        f1,\n",
    "                        aic_test,\n",
    "                        bic_test,\n",
    "                        acc_test,\n",
    "                        class_accs_test,\n",
    "                        f1_test,\n",
    "                    )\n",
    "                    for (\n",
    "                        circ,\n",
    "                        best_params,\n",
    "                        aic,\n",
    "                        bic,\n",
    "                        acc,\n",
    "                        class_accs,\n",
    "                        f1,\n",
    "                        model,\n",
    "                        m,\n",
    "                        depth,\n",
    "                        aic_test,\n",
    "                        bic_test,\n",
    "                        acc_test,\n",
    "                        class_accs_test,\n",
    "                        f1_test,\n",
    "                    ) in best_circuit_arr\n",
    "                ],\n",
    "                f,\n",
    "            )"
   ]
  },
  {
   "cell_type": "code",
   "execution_count": 12,
   "id": "a52994ca",
   "metadata": {},
   "outputs": [
    {
     "data": {
      "application/vnd.jupyter.widget-view+json": {
       "model_id": "1a439c6d1a774c4e814eac4c9379e590",
       "version_major": 2,
       "version_minor": 0
      },
      "text/plain": [
       "Depth:   0%|          | 0/4 [00:00<?, ?it/s]"
      ]
     },
     "metadata": {},
     "output_type": "display_data"
    },
    {
     "data": {
      "application/vnd.jupyter.widget-view+json": {
       "model_id": "420c0f8dff7d4919862cba00d467da90",
       "version_major": 2,
       "version_minor": 0
      },
      "text/plain": [
       "QUEUEING TASKS | Gate Combinations:   0%|          | 0/35 [00:00<?, ?it/s]"
      ]
     },
     "metadata": {},
     "output_type": "display_data"
    },
    {
     "data": {
      "application/vnd.jupyter.widget-view+json": {
       "model_id": "d1baf2fec42b40eab06058da763b19ca",
       "version_major": 2,
       "version_minor": 0
      },
      "text/plain": [
       "PROCESSING TASKS | Gate Combinations:   0%|          | 0/35 [00:00<?, ?it/s]"
      ]
     },
     "metadata": {},
     "output_type": "display_data"
    },
    {
     "data": {
      "application/vnd.jupyter.widget-view+json": {
       "model_id": "1f9431aa46344e16b873eff6d7541c5b",
       "version_major": 2,
       "version_minor": 0
      },
      "text/plain": [
       "COLLECTING RESULTS | Gate Combinations:   0%|          | 0/35 [00:00<?, ?it/s]"
      ]
     },
     "metadata": {},
     "output_type": "display_data"
    },
    {
     "data": {
      "application/vnd.jupyter.widget-view+json": {
       "model_id": "e0ee91151cee48f48f1a8e176250906a",
       "version_major": 2,
       "version_minor": 0
      },
      "text/plain": [
       "QUEUEING TASKS | Optimizing parameters:   0%|          | 0/10 [00:00<?, ?it/s]"
      ]
     },
     "metadata": {},
     "output_type": "display_data"
    },
    {
     "data": {
      "application/vnd.jupyter.widget-view+json": {
       "model_id": "6225a2eda93e4c748822b185ccc6a093",
       "version_major": 2,
       "version_minor": 0
      },
      "text/plain": [
       "PROCESSING TASKS | Optimizing parameters:   0%|          | 0/10 [00:00<?, ?it/s]"
      ]
     },
     "metadata": {},
     "output_type": "display_data"
    },
    {
     "data": {
      "application/vnd.jupyter.widget-view+json": {
       "model_id": "4616120164ea4d829715dbc6a7449267",
       "version_major": 2,
       "version_minor": 0
      },
      "text/plain": [
       "COLLECTING RESULTS | Optimizing parameters:   0%|          | 0/10 [00:00<?, ?it/s]"
      ]
     },
     "metadata": {},
     "output_type": "display_data"
    },
    {
     "name": "stdout",
     "output_type": "stream",
     "text": [
      "depth 1 done\n"
     ]
    },
    {
     "data": {
      "application/vnd.jupyter.widget-view+json": {
       "model_id": "0cc5724c89e8438e9a6e8d76409f1515",
       "version_major": 2,
       "version_minor": 0
      },
      "text/plain": [
       "QUEUEING TASKS | Gate Combinations:   0%|          | 0/247 [00:00<?, ?it/s]"
      ]
     },
     "metadata": {},
     "output_type": "display_data"
    },
    {
     "data": {
      "application/vnd.jupyter.widget-view+json": {
       "model_id": "81e617d6ddfc4aa9b6e5f54714665d44",
       "version_major": 2,
       "version_minor": 0
      },
      "text/plain": [
       "PROCESSING TASKS | Gate Combinations:   0%|          | 0/247 [00:00<?, ?it/s]"
      ]
     },
     "metadata": {},
     "output_type": "display_data"
    },
    {
     "data": {
      "application/vnd.jupyter.widget-view+json": {
       "model_id": "17a9e051ffad4d1a97f8b9c632262100",
       "version_major": 2,
       "version_minor": 0
      },
      "text/plain": [
       "COLLECTING RESULTS | Gate Combinations:   0%|          | 0/247 [00:00<?, ?it/s]"
      ]
     },
     "metadata": {},
     "output_type": "display_data"
    },
    {
     "data": {
      "application/vnd.jupyter.widget-view+json": {
       "model_id": "f213facc1a5549ac8b2cd2d070162c93",
       "version_major": 2,
       "version_minor": 0
      },
      "text/plain": [
       "QUEUEING TASKS | Optimizing parameters:   0%|          | 0/10 [00:00<?, ?it/s]"
      ]
     },
     "metadata": {},
     "output_type": "display_data"
    },
    {
     "data": {
      "application/vnd.jupyter.widget-view+json": {
       "model_id": "20f3311c2aa0458b8af0798a250e1c5c",
       "version_major": 2,
       "version_minor": 0
      },
      "text/plain": [
       "PROCESSING TASKS | Optimizing parameters:   0%|          | 0/10 [00:00<?, ?it/s]"
      ]
     },
     "metadata": {},
     "output_type": "display_data"
    },
    {
     "data": {
      "application/vnd.jupyter.widget-view+json": {
       "model_id": "852dce08322248f2988179a5ce2a16bb",
       "version_major": 2,
       "version_minor": 0
      },
      "text/plain": [
       "COLLECTING RESULTS | Optimizing parameters:   0%|          | 0/10 [00:00<?, ?it/s]"
      ]
     },
     "metadata": {},
     "output_type": "display_data"
    },
    {
     "name": "stdout",
     "output_type": "stream",
     "text": [
      "depth 2 done\n"
     ]
    },
    {
     "data": {
      "application/vnd.jupyter.widget-view+json": {
       "model_id": "e5348b62f62c4e9393f92781a1337806",
       "version_major": 2,
       "version_minor": 0
      },
      "text/plain": [
       "QUEUEING TASKS | Gate Combinations:   0%|          | 0/345 [00:00<?, ?it/s]"
      ]
     },
     "metadata": {},
     "output_type": "display_data"
    },
    {
     "data": {
      "application/vnd.jupyter.widget-view+json": {
       "model_id": "6bf801679ad740a9a417369bfd5e8e2b",
       "version_major": 2,
       "version_minor": 0
      },
      "text/plain": [
       "PROCESSING TASKS | Gate Combinations:   0%|          | 0/345 [00:00<?, ?it/s]"
      ]
     },
     "metadata": {},
     "output_type": "display_data"
    },
    {
     "data": {
      "application/vnd.jupyter.widget-view+json": {
       "model_id": "2278141437484cf999e97e0265ad35a4",
       "version_major": 2,
       "version_minor": 0
      },
      "text/plain": [
       "COLLECTING RESULTS | Gate Combinations:   0%|          | 0/345 [00:00<?, ?it/s]"
      ]
     },
     "metadata": {},
     "output_type": "display_data"
    },
    {
     "data": {
      "application/vnd.jupyter.widget-view+json": {
       "model_id": "c19dade9959b49c9bcf234ccb3534977",
       "version_major": 2,
       "version_minor": 0
      },
      "text/plain": [
       "QUEUEING TASKS | Optimizing parameters:   0%|          | 0/10 [00:00<?, ?it/s]"
      ]
     },
     "metadata": {},
     "output_type": "display_data"
    },
    {
     "data": {
      "application/vnd.jupyter.widget-view+json": {
       "model_id": "09ff2fe71b9b43b693cc5a0679332d99",
       "version_major": 2,
       "version_minor": 0
      },
      "text/plain": [
       "PROCESSING TASKS | Optimizing parameters:   0%|          | 0/10 [00:00<?, ?it/s]"
      ]
     },
     "metadata": {},
     "output_type": "display_data"
    },
    {
     "data": {
      "application/vnd.jupyter.widget-view+json": {
       "model_id": "600f3a501f624e369125a5d9196a7d4f",
       "version_major": 2,
       "version_minor": 0
      },
      "text/plain": [
       "COLLECTING RESULTS | Optimizing parameters:   0%|          | 0/10 [00:00<?, ?it/s]"
      ]
     },
     "metadata": {},
     "output_type": "display_data"
    },
    {
     "name": "stdout",
     "output_type": "stream",
     "text": [
      "depth 3 done\n"
     ]
    },
    {
     "data": {
      "application/vnd.jupyter.widget-view+json": {
       "model_id": "17cab4a9ddd24cd5b6a02ce461569c8e",
       "version_major": 2,
       "version_minor": 0
      },
      "text/plain": [
       "QUEUEING TASKS | Gate Combinations:   0%|          | 0/365 [00:00<?, ?it/s]"
      ]
     },
     "metadata": {},
     "output_type": "display_data"
    },
    {
     "data": {
      "application/vnd.jupyter.widget-view+json": {
       "model_id": "8f541895b1bf400792c2fee50d375b84",
       "version_major": 2,
       "version_minor": 0
      },
      "text/plain": [
       "PROCESSING TASKS | Gate Combinations:   0%|          | 0/365 [00:00<?, ?it/s]"
      ]
     },
     "metadata": {},
     "output_type": "display_data"
    },
    {
     "data": {
      "application/vnd.jupyter.widget-view+json": {
       "model_id": "419035ffa8e04e0b9f00daee4569e72e",
       "version_major": 2,
       "version_minor": 0
      },
      "text/plain": [
       "COLLECTING RESULTS | Gate Combinations:   0%|          | 0/365 [00:00<?, ?it/s]"
      ]
     },
     "metadata": {},
     "output_type": "display_data"
    },
    {
     "data": {
      "application/vnd.jupyter.widget-view+json": {
       "model_id": "9ab0d9e59c824ccaa0bbef5efd01a3d1",
       "version_major": 2,
       "version_minor": 0
      },
      "text/plain": [
       "QUEUEING TASKS | Optimizing parameters:   0%|          | 0/10 [00:00<?, ?it/s]"
      ]
     },
     "metadata": {},
     "output_type": "display_data"
    },
    {
     "data": {
      "application/vnd.jupyter.widget-view+json": {
       "model_id": "26ce9ba94b3249c8814fa3ad59b7e00b",
       "version_major": 2,
       "version_minor": 0
      },
      "text/plain": [
       "PROCESSING TASKS | Optimizing parameters:   0%|          | 0/10 [00:00<?, ?it/s]"
      ]
     },
     "metadata": {},
     "output_type": "display_data"
    },
    {
     "data": {
      "application/vnd.jupyter.widget-view+json": {
       "model_id": "c8657e025dcd4278b70a17dd66ba3235",
       "version_major": 2,
       "version_minor": 0
      },
      "text/plain": [
       "COLLECTING RESULTS | Optimizing parameters:   0%|          | 0/10 [00:00<?, ?it/s]"
      ]
     },
     "metadata": {},
     "output_type": "display_data"
    },
    {
     "name": "stdout",
     "output_type": "stream",
     "text": [
      "depth 4 done\n"
     ]
    }
   ],
   "source": [
    "#!/usr/bin/env python\n",
    "import itertools\n",
    "import json\n",
    "import numpy as np\n",
    "from typing import List\n",
    "import pennylane as qml\n",
    "from sklearn.svm import SVC\n",
    "from sklearn.model_selection import train_test_split\n",
    "from sklearn.metrics import log_loss\n",
    "from sklearn.utils import shuffle\n",
    "from qiskit_machine_learning.datasets import ad_hoc_data\n",
    "import matplotlib.pyplot as plt\n",
    "import matplotlib\n",
    "import random\n",
    "from tqdm.notebook import tqdm\n",
    "from skopt import gp_minimize\n",
    "from skopt.space import Real\n",
    "from sklearn.metrics import accuracy_score, f1_score, classification_report\n",
    "import seaborn as sns\n",
    "import pandas as pd\n",
    "from collections import Counter\n",
    "from pqdm.processes import pqdm\n",
    "\n",
    "K = 15  # Top circuits to keep per iteration\n",
    "N = 100  # Data size\n",
    "L_MAX = 4  # Max circuit depth\n",
    "QUBITS = 3  # Number of qubits\n",
    "JOBS = 15\n",
    "seed = 42\n",
    "\n",
    "projector = np.zeros((2**QUBITS, 2**QUBITS))\n",
    "projector[0, 0] = 1\n",
    "\n",
    "\n",
    "def gate_combinations_sub(qubits: int, previous_layer: tuple[int]):\n",
    "    if qubits == 0:\n",
    "        yield ()\n",
    "    else:\n",
    "        for combination in gate_combinations_sub(qubits - 1, previous_layer):\n",
    "            yield combination + (0,)\n",
    "            if previous_layer[qubits - 1] != 1:\n",
    "                yield combination + (1,)\n",
    "            if previous_layer[qubits - 1] != 2:\n",
    "                yield combination + (2,)\n",
    "            for offset in range(1, len(combination) + 1):\n",
    "                if (\n",
    "                    combination[-offset] == 0\n",
    "                    and all(\n",
    "                        combination[-offset + o] != o + 2 for o in range(1, offset + 1)\n",
    "                    )\n",
    "                    and previous_layer[qubits - 1] != offset + 2\n",
    "                ):\n",
    "                    yield combination + (offset + 2,)\n",
    "\n",
    "\n",
    "def gate_combinations(qubits, previous_layer):\n",
    "    # skip the 1st output (0 everywhere) so we actually do\n",
    "    return list(gate_combinations_sub(qubits, previous_layer))[1:]\n",
    "\n",
    "\n",
    "def create_pennylane_circuit(instructions: List[List[int]]):\n",
    "    dev = qml.device(\"default.qubit\", wires=QUBITS)\n",
    "\n",
    "    @qml.qnode(dev)\n",
    "    def circuit(xparams=[], yparams=[]):\n",
    "        for q in range(QUBITS):\n",
    "            qml.Hadamard(wires=q)\n",
    "            qml.RZ(xparams[q], wires=q)\n",
    "\n",
    "        idx = 0\n",
    "        for layer in instructions:\n",
    "            for qbit, op in enumerate(layer):\n",
    "                if op == 0:\n",
    "                    continue\n",
    "                elif op == 1:\n",
    "                    qml.Hadamard(wires=qbit)\n",
    "                elif op == 2:\n",
    "                    qml.RZ(yparams[idx]*xparams[qbit], wires=qbit)\n",
    "                    idx += 1\n",
    "                elif op >= 3:\n",
    "                    qml.CNOT(wires=[qbit, qbit - op + 2])\n",
    "        return qml.state()\n",
    "\n",
    "    return circuit\n",
    "\n",
    "\n",
    "def build_kernel_fn(gate_layers, rz_params):\n",
    "    dev = qml.device(\"default.qubit\", wires=QUBITS)\n",
    "    dev2 = qml.device(\"default.qubit\", wires=QUBITS)\n",
    "\n",
    "    def apply_circuit(x):\n",
    "        idx = 0\n",
    "        for q in range(QUBITS):\n",
    "            qml.Hadamard(wires=q)\n",
    "            qml.RZ(x[q], wires=q)\n",
    "        for layer in gate_layers:\n",
    "            for qbit, op in enumerate(layer):\n",
    "                if op == 0:\n",
    "                    continue\n",
    "                elif op == 1:\n",
    "                    qml.Hadamard(wires=qbit)\n",
    "                elif op == 2:\n",
    "                    qml.RZ(rz_params[idx]*x[qbit], wires=qbit)\n",
    "                    idx += 1\n",
    "                elif op >= 3:\n",
    "                    qml.CNOT(wires=[qbit, qbit - op + 2])\n",
    "\n",
    "    @qml.qnode(dev)\n",
    "    def kernel_qnode(x1, x2):\n",
    "        apply_circuit(x1)\n",
    "        qml.adjoint(apply_circuit)(x2)\n",
    "        # return qml.probs(wires=0)\n",
    "        # return qml.expval(qml.PauliZ(wires=range(QUBITS)))\n",
    "        return qml.expval(qml.Hermitian(projector, wires=range(QUBITS)))\n",
    "\n",
    "    def kernel_fn(X1, X2):\n",
    "        K = np.zeros((len(X1), len(X2)))\n",
    "        for i in range(len(X1)):\n",
    "            for j in range(len(X2)):\n",
    "                K[i, j] = kernel_qnode(X1[i], X2[j])\n",
    "        return K\n",
    "\n",
    "    return kernel_fn\n",
    "\n",
    "\n",
    "def compute_information_criteria(y_true, y_prob, num_params):\n",
    "    y_pred = (y_prob >= 0.5).astype(int)\n",
    "    n = len(y_true)\n",
    "    loglik = -log_loss(y_true, y_prob, normalize=False)\n",
    "    aic = 2 * num_params - 2 * loglik\n",
    "    bic = num_params * np.log(n) - 2 * loglik\n",
    "\n",
    "    acc = accuracy_score(y_true, y_pred)\n",
    "    f1 = f1_score(y_true, y_pred)\n",
    "\n",
    "    report = classification_report(y_true, y_pred, output_dict=True, zero_division=0)\n",
    "    class_accuracies = {\n",
    "        f\"class_{cls}\": report[cls][\"recall\"] for cls in report if cls in (\"0\", \"1\")\n",
    "    }\n",
    "\n",
    "    return aic, bic, acc, class_accuracies, f1\n",
    "\n",
    "\n",
    "gap = 0.5\n",
    "# Load data\n",
    "x_raw, y_raw, X_test, y_test = ad_hoc_data(\n",
    "    training_size=N, test_size=4100//2, n=QUBITS, gap=gap, one_hot=False\n",
    ")\n",
    "\n",
    "# Shuffle 2N training examples\n",
    "x_raw, y_raw = shuffle(x_raw, y_raw, random_state=seed)\n",
    "\n",
    "# Split into train and validation (each size N)\n",
    "x_train, x_val, y_train, y_val = train_test_split(\n",
    "    x_raw, y_raw, test_size=0.5, random_state=seed\n",
    ")\n",
    "\n",
    "x = np.vstack([x_raw, x_raw])\n",
    "y = np.hstack([y_raw, y_raw])\n",
    "x, y = shuffle(x, y, random_state=seed)\n",
    "\n",
    "\n",
    "def compute_test_values(circ, rz, model):\n",
    "    num_rz = len(rz)\n",
    "    try:\n",
    "        kernel_fn = build_kernel_fn(circ, rz)\n",
    "        K_test = kernel_fn(X_test, x_train)\n",
    "        y_prob = model.predict_proba(K_test)[:, 1]\n",
    "        aic, bic, acc, class_accs, f1 = compute_information_criteria(\n",
    "            y_test, y_prob, num_rz\n",
    "        )\n",
    "        return acc, bic, acc, class_accs, f1\n",
    "    except Exception as e:\n",
    "        print(f\"Test evaluation error: {e}\")\n",
    "        return None, None, None, None, None\n",
    "\n",
    "\n",
    "best_circuit_arr = []\n",
    "\n",
    "for m in [10]:\n",
    "    optimal_circuits = []\n",
    "    for depth in tqdm(range(1, L_MAX + 1), desc=\"Depth\", position=3, leave=False):\n",
    "        base_circuits = (\n",
    "            [(c[0], c[1]) for c in optimal_circuits]\n",
    "            if optimal_circuits\n",
    "            else [([tuple(0 for _ in range(QUBITS))], [])]\n",
    "        )\n",
    "\n",
    "        # Stage 1: Structure search (fixed/random RZ)\n",
    "        def calculate_combo(inp):\n",
    "            base, base_rz, combo = inp\n",
    "            new_circ = base + [combo]\n",
    "            num_rz = sum(layer.count(2) for layer in new_circ)\n",
    "            # print(f\"Trying circuit {new_circ} with {num_rz} RZs\")\n",
    "            new_rz_count = combo.count(2)\n",
    "            new_rz = np.random.uniform(-np.pi, np.pi, size=new_rz_count).tolist()\n",
    "            dummy_rz = base_rz + new_rz\n",
    "\n",
    "            try:\n",
    "                kernel_fn = build_kernel_fn(new_circ, dummy_rz)\n",
    "                K_train = kernel_fn(x_train, x_train)\n",
    "                model = SVC(kernel=\"precomputed\", probability=True)\n",
    "                model.fit(K_train, y_train)\n",
    "\n",
    "                K_val = kernel_fn(x_val, x_train)\n",
    "                y_prob = model.predict_proba(K_val)[:, 1]\n",
    "\n",
    "                aic, bic, acc, class_accs, f1 = compute_information_criteria(\n",
    "                    y_val, y_prob, num_rz\n",
    "                )\n",
    "                # print(f\"combo {combo} has BIC {bic}\")\n",
    "                return (new_circ, dummy_rz, aic, bic, acc, class_accs, f1, model)\n",
    "            except Exception as e:\n",
    "                print(f\"Structure error: {e}\")\n",
    "                return None\n",
    "\n",
    "        result = pqdm(\n",
    "            [\n",
    "                (base, rz, combo)\n",
    "                for base, rz in base_circuits\n",
    "                for combo in gate_combinations(QUBITS, base[-1])\n",
    "            ],\n",
    "            calculate_combo,\n",
    "            n_jobs=JOBS,\n",
    "            desc=\"Gate Combinations\",\n",
    "            position=1,\n",
    "            leave=False,\n",
    "        )\n",
    "        stage1_candidates = []\n",
    "        for thing in result:\n",
    "            stage1_candidates.append(thing)\n",
    "\n",
    "        # Pick top K by BIC\n",
    "        stage1_candidates.sort(key=lambda x: x[6],reverse=True)\n",
    "        param = [cand for cand in stage1_candidates if len(cand[1]) > 0]\n",
    "        top_m = param[:m]\n",
    "        non_param = [cand for cand in stage1_candidates if len(cand[1]) == 0]\n",
    "        # Stage 2: Parameter optimization on top M circuits\n",
    "        stage2_optimized = []\n",
    "\n",
    "        def parameter_optimization(values):\n",
    "            circ, init_rz, aic, bic, acc, class_accs, f1, model1 = values\n",
    "            num_rz = len(init_rz)\n",
    "            if num_rz == 0:\n",
    "                return (circ, [], aic, bic, acc, class_accs, f1, model1)\n",
    "\n",
    "            def objective(params):\n",
    "                try:\n",
    "                    kernel_fn = build_kernel_fn(circ, params)\n",
    "                    K_train = kernel_fn(x_train, x_train)\n",
    "                    model = SVC(kernel=\"precomputed\", probability=True)\n",
    "                    model.fit(K_train, y_train)\n",
    "                    K_val = kernel_fn(x_val, x_train)\n",
    "                    y_prob = model.predict_proba(K_val)[:, 1]\n",
    "                    aic, bic, acc, class_accs, f1 = compute_information_criteria(\n",
    "                        y_val, y_prob, num_rz\n",
    "                    )\n",
    "                    return -f1\n",
    "                except Exception:\n",
    "                    return 1e6\n",
    "\n",
    "            space = [Real(-np.pi, np.pi) for _ in range(num_rz)]\n",
    "            result = gp_minimize(objective, space, n_calls=15, random_state=seed)\n",
    "            best_params = result.x\n",
    "\n",
    "            try:\n",
    "                kernel_fn = build_kernel_fn(circ, best_params)\n",
    "                K_train = kernel_fn(x_train, x_train)\n",
    "                model = SVC(kernel=\"precomputed\", probability=True)\n",
    "                model.fit(K_train, y_train)\n",
    "                K_val = kernel_fn(x_val, x_train)\n",
    "                y_prob = model.predict_proba(K_val)[:, 1]\n",
    "                aic, bic, acc, class_accs, f1 = compute_information_criteria(\n",
    "                    y_val, y_prob, num_rz\n",
    "                )\n",
    "                return (circ, best_params, aic, bic, acc, class_accs, f1, model)\n",
    "\n",
    "            except Exception as e:\n",
    "                print(f\"Final model error: {e}\")\n",
    "                return None\n",
    "\n",
    "        stage2_optimized = [\n",
    "            x\n",
    "            for x in pqdm(\n",
    "                top_m,\n",
    "                parameter_optimization,\n",
    "                n_jobs=JOBS,\n",
    "                position=2,\n",
    "                leave=False,\n",
    "                desc=\"Optimizing parameters\",\n",
    "            )\n",
    "            if x is not None\n",
    "        ]\n",
    "\n",
    "        # Add remaining K-M circuits (unoptimized) + optimized ones\n",
    "        optimal_circuits = stage2_optimized + non_param[:K] + param[m:]\n",
    "        optimal_circuits.sort(key=lambda x: x[6],reverse=True)  # sort by BIC\n",
    "        optimal_circuits = optimal_circuits[:K]  # keep top K\n",
    "\n",
    "        aic, bic, acc, class_accs, f1 = compute_test_values(\n",
    "            optimal_circuits[0][0], optimal_circuits[0][1], optimal_circuits[0][7]\n",
    "        )\n",
    "\n",
    "        best_circuit_arr.append(\n",
    "            (optimal_circuits[0] + (m, depth) + (aic, bic, acc, class_accs, f1))\n",
    "        )\n",
    "        print(f\"depth {depth} done\")\n",
    "\n",
    "        with open(\"data_f17.json\", \"w+\") as f:\n",
    "            json.dump(\n",
    "                [\n",
    "                    (\n",
    "                        m,\n",
    "                        depth,\n",
    "                        circ,\n",
    "                        best_params,\n",
    "                        aic,\n",
    "                        bic,\n",
    "                        acc,\n",
    "                        class_accs,\n",
    "                        f1,\n",
    "                        aic_test,\n",
    "                        bic_test,\n",
    "                        acc_test,\n",
    "                        class_accs_test,\n",
    "                        f1_test,\n",
    "                    )\n",
    "                    for (\n",
    "                        circ,\n",
    "                        best_params,\n",
    "                        aic,\n",
    "                        bic,\n",
    "                        acc,\n",
    "                        class_accs,\n",
    "                        f1,\n",
    "                        model,\n",
    "                        m,\n",
    "                        depth,\n",
    "                        aic_test,\n",
    "                        bic_test,\n",
    "                        acc_test,\n",
    "                        class_accs_test,\n",
    "                        f1_test,\n",
    "                    ) in best_circuit_arr\n",
    "                ],\n",
    "                f,\n",
    "            )"
   ]
  },
  {
   "cell_type": "code",
   "execution_count": null,
   "id": "f0e439a5",
   "metadata": {},
   "outputs": [],
   "source": []
  }
 ],
 "metadata": {
  "kernelspec": {
   "display_name": "oceanwsl",
   "language": "python",
   "name": "python3"
  },
  "language_info": {
   "codemirror_mode": {
    "name": "ipython",
    "version": 3
   },
   "file_extension": ".py",
   "mimetype": "text/x-python",
   "name": "python",
   "nbconvert_exporter": "python",
   "pygments_lexer": "ipython3",
   "version": "3.13.5"
  }
 },
 "nbformat": 4,
 "nbformat_minor": 5
}
